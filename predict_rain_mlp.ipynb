{
  "nbformat": 4,
  "nbformat_minor": 0,
  "metadata": {
    "colab": {
      "provenance": []
    },
    "kernelspec": {
      "name": "python3",
      "display_name": "Python 3"
    },
    "language_info": {
      "name": "python"
    }
  },
  "cells": [
    {
      "cell_type": "code",
      "execution_count": 1,
      "metadata": {
        "colab": {
          "base_uri": "https://localhost:8080/"
        },
        "id": "YfPcdw3A_tkL",
        "outputId": "03ed734c-f493-4082-cb37-41791e058570"
      },
      "outputs": [
        {
          "output_type": "stream",
          "name": "stdout",
          "text": [
            "Mounted at /drive\n"
          ]
        }
      ],
      "source": [
        "from google.colab import drive\n",
        "drive.mount('/drive')"
      ]
    },
    {
      "cell_type": "code",
      "source": [
        "import pandas as pd\n",
        "import numpy as np"
      ],
      "metadata": {
        "id": "t_U35rivARzg"
      },
      "execution_count": 2,
      "outputs": []
    },
    {
      "cell_type": "markdown",
      "source": [
        "## Data Preparation and Feature Engineering"
      ],
      "metadata": {
        "id": "a6lzk8FuASp6"
      }
    },
    {
      "cell_type": "code",
      "source": [
        "weather_df = pd.read_csv('/drive/My Drive/IF5171 Praktikum/Praktikum ANN/weatherAUS.csv')"
      ],
      "metadata": {
        "id": "S-_kjyWkAVut"
      },
      "execution_count": 3,
      "outputs": []
    },
    {
      "cell_type": "code",
      "source": [
        "weather_df.head()"
      ],
      "metadata": {
        "colab": {
          "base_uri": "https://localhost:8080/",
          "height": 386
        },
        "id": "e1IIH73UAoOl",
        "outputId": "e975f1fa-4f0e-4f75-8d24-44d0f003b726"
      },
      "execution_count": 4,
      "outputs": [
        {
          "output_type": "execute_result",
          "data": {
            "text/plain": [
              "         Date Location  MinTemp  MaxTemp  Rainfall  Evaporation  Sunshine  \\\n",
              "0  2008-12-01   Albury     13.4     22.9       0.6          NaN       NaN   \n",
              "1  2008-12-02   Albury      7.4     25.1       0.0          NaN       NaN   \n",
              "2  2008-12-03   Albury     12.9     25.7       0.0          NaN       NaN   \n",
              "3  2008-12-04   Albury      9.2     28.0       0.0          NaN       NaN   \n",
              "4  2008-12-05   Albury     17.5     32.3       1.0          NaN       NaN   \n",
              "\n",
              "  WindGustDir  WindGustSpeed WindDir9am  ... Humidity9am  Humidity3pm  \\\n",
              "0           W           44.0          W  ...        71.0         22.0   \n",
              "1         WNW           44.0        NNW  ...        44.0         25.0   \n",
              "2         WSW           46.0          W  ...        38.0         30.0   \n",
              "3          NE           24.0         SE  ...        45.0         16.0   \n",
              "4           W           41.0        ENE  ...        82.0         33.0   \n",
              "\n",
              "   Pressure9am  Pressure3pm  Cloud9am  Cloud3pm  Temp9am  Temp3pm  RainToday  \\\n",
              "0       1007.7       1007.1       8.0       NaN     16.9     21.8         No   \n",
              "1       1010.6       1007.8       NaN       NaN     17.2     24.3         No   \n",
              "2       1007.6       1008.7       NaN       2.0     21.0     23.2         No   \n",
              "3       1017.6       1012.8       NaN       NaN     18.1     26.5         No   \n",
              "4       1010.8       1006.0       7.0       8.0     17.8     29.7         No   \n",
              "\n",
              "   RainTomorrow  \n",
              "0            No  \n",
              "1            No  \n",
              "2            No  \n",
              "3            No  \n",
              "4            No  \n",
              "\n",
              "[5 rows x 23 columns]"
            ],
            "text/html": [
              "\n",
              "  <div id=\"df-16403d88-1588-44f1-9a26-6fad1d784e43\">\n",
              "    <div class=\"colab-df-container\">\n",
              "      <div>\n",
              "<style scoped>\n",
              "    .dataframe tbody tr th:only-of-type {\n",
              "        vertical-align: middle;\n",
              "    }\n",
              "\n",
              "    .dataframe tbody tr th {\n",
              "        vertical-align: top;\n",
              "    }\n",
              "\n",
              "    .dataframe thead th {\n",
              "        text-align: right;\n",
              "    }\n",
              "</style>\n",
              "<table border=\"1\" class=\"dataframe\">\n",
              "  <thead>\n",
              "    <tr style=\"text-align: right;\">\n",
              "      <th></th>\n",
              "      <th>Date</th>\n",
              "      <th>Location</th>\n",
              "      <th>MinTemp</th>\n",
              "      <th>MaxTemp</th>\n",
              "      <th>Rainfall</th>\n",
              "      <th>Evaporation</th>\n",
              "      <th>Sunshine</th>\n",
              "      <th>WindGustDir</th>\n",
              "      <th>WindGustSpeed</th>\n",
              "      <th>WindDir9am</th>\n",
              "      <th>...</th>\n",
              "      <th>Humidity9am</th>\n",
              "      <th>Humidity3pm</th>\n",
              "      <th>Pressure9am</th>\n",
              "      <th>Pressure3pm</th>\n",
              "      <th>Cloud9am</th>\n",
              "      <th>Cloud3pm</th>\n",
              "      <th>Temp9am</th>\n",
              "      <th>Temp3pm</th>\n",
              "      <th>RainToday</th>\n",
              "      <th>RainTomorrow</th>\n",
              "    </tr>\n",
              "  </thead>\n",
              "  <tbody>\n",
              "    <tr>\n",
              "      <th>0</th>\n",
              "      <td>2008-12-01</td>\n",
              "      <td>Albury</td>\n",
              "      <td>13.4</td>\n",
              "      <td>22.9</td>\n",
              "      <td>0.6</td>\n",
              "      <td>NaN</td>\n",
              "      <td>NaN</td>\n",
              "      <td>W</td>\n",
              "      <td>44.0</td>\n",
              "      <td>W</td>\n",
              "      <td>...</td>\n",
              "      <td>71.0</td>\n",
              "      <td>22.0</td>\n",
              "      <td>1007.7</td>\n",
              "      <td>1007.1</td>\n",
              "      <td>8.0</td>\n",
              "      <td>NaN</td>\n",
              "      <td>16.9</td>\n",
              "      <td>21.8</td>\n",
              "      <td>No</td>\n",
              "      <td>No</td>\n",
              "    </tr>\n",
              "    <tr>\n",
              "      <th>1</th>\n",
              "      <td>2008-12-02</td>\n",
              "      <td>Albury</td>\n",
              "      <td>7.4</td>\n",
              "      <td>25.1</td>\n",
              "      <td>0.0</td>\n",
              "      <td>NaN</td>\n",
              "      <td>NaN</td>\n",
              "      <td>WNW</td>\n",
              "      <td>44.0</td>\n",
              "      <td>NNW</td>\n",
              "      <td>...</td>\n",
              "      <td>44.0</td>\n",
              "      <td>25.0</td>\n",
              "      <td>1010.6</td>\n",
              "      <td>1007.8</td>\n",
              "      <td>NaN</td>\n",
              "      <td>NaN</td>\n",
              "      <td>17.2</td>\n",
              "      <td>24.3</td>\n",
              "      <td>No</td>\n",
              "      <td>No</td>\n",
              "    </tr>\n",
              "    <tr>\n",
              "      <th>2</th>\n",
              "      <td>2008-12-03</td>\n",
              "      <td>Albury</td>\n",
              "      <td>12.9</td>\n",
              "      <td>25.7</td>\n",
              "      <td>0.0</td>\n",
              "      <td>NaN</td>\n",
              "      <td>NaN</td>\n",
              "      <td>WSW</td>\n",
              "      <td>46.0</td>\n",
              "      <td>W</td>\n",
              "      <td>...</td>\n",
              "      <td>38.0</td>\n",
              "      <td>30.0</td>\n",
              "      <td>1007.6</td>\n",
              "      <td>1008.7</td>\n",
              "      <td>NaN</td>\n",
              "      <td>2.0</td>\n",
              "      <td>21.0</td>\n",
              "      <td>23.2</td>\n",
              "      <td>No</td>\n",
              "      <td>No</td>\n",
              "    </tr>\n",
              "    <tr>\n",
              "      <th>3</th>\n",
              "      <td>2008-12-04</td>\n",
              "      <td>Albury</td>\n",
              "      <td>9.2</td>\n",
              "      <td>28.0</td>\n",
              "      <td>0.0</td>\n",
              "      <td>NaN</td>\n",
              "      <td>NaN</td>\n",
              "      <td>NE</td>\n",
              "      <td>24.0</td>\n",
              "      <td>SE</td>\n",
              "      <td>...</td>\n",
              "      <td>45.0</td>\n",
              "      <td>16.0</td>\n",
              "      <td>1017.6</td>\n",
              "      <td>1012.8</td>\n",
              "      <td>NaN</td>\n",
              "      <td>NaN</td>\n",
              "      <td>18.1</td>\n",
              "      <td>26.5</td>\n",
              "      <td>No</td>\n",
              "      <td>No</td>\n",
              "    </tr>\n",
              "    <tr>\n",
              "      <th>4</th>\n",
              "      <td>2008-12-05</td>\n",
              "      <td>Albury</td>\n",
              "      <td>17.5</td>\n",
              "      <td>32.3</td>\n",
              "      <td>1.0</td>\n",
              "      <td>NaN</td>\n",
              "      <td>NaN</td>\n",
              "      <td>W</td>\n",
              "      <td>41.0</td>\n",
              "      <td>ENE</td>\n",
              "      <td>...</td>\n",
              "      <td>82.0</td>\n",
              "      <td>33.0</td>\n",
              "      <td>1010.8</td>\n",
              "      <td>1006.0</td>\n",
              "      <td>7.0</td>\n",
              "      <td>8.0</td>\n",
              "      <td>17.8</td>\n",
              "      <td>29.7</td>\n",
              "      <td>No</td>\n",
              "      <td>No</td>\n",
              "    </tr>\n",
              "  </tbody>\n",
              "</table>\n",
              "<p>5 rows × 23 columns</p>\n",
              "</div>\n",
              "      <button class=\"colab-df-convert\" onclick=\"convertToInteractive('df-16403d88-1588-44f1-9a26-6fad1d784e43')\"\n",
              "              title=\"Convert this dataframe to an interactive table.\"\n",
              "              style=\"display:none;\">\n",
              "        \n",
              "  <svg xmlns=\"http://www.w3.org/2000/svg\" height=\"24px\"viewBox=\"0 0 24 24\"\n",
              "       width=\"24px\">\n",
              "    <path d=\"M0 0h24v24H0V0z\" fill=\"none\"/>\n",
              "    <path d=\"M18.56 5.44l.94 2.06.94-2.06 2.06-.94-2.06-.94-.94-2.06-.94 2.06-2.06.94zm-11 1L8.5 8.5l.94-2.06 2.06-.94-2.06-.94L8.5 2.5l-.94 2.06-2.06.94zm10 10l.94 2.06.94-2.06 2.06-.94-2.06-.94-.94-2.06-.94 2.06-2.06.94z\"/><path d=\"M17.41 7.96l-1.37-1.37c-.4-.4-.92-.59-1.43-.59-.52 0-1.04.2-1.43.59L10.3 9.45l-7.72 7.72c-.78.78-.78 2.05 0 2.83L4 21.41c.39.39.9.59 1.41.59.51 0 1.02-.2 1.41-.59l7.78-7.78 2.81-2.81c.8-.78.8-2.07 0-2.86zM5.41 20L4 18.59l7.72-7.72 1.47 1.35L5.41 20z\"/>\n",
              "  </svg>\n",
              "      </button>\n",
              "      \n",
              "  <style>\n",
              "    .colab-df-container {\n",
              "      display:flex;\n",
              "      flex-wrap:wrap;\n",
              "      gap: 12px;\n",
              "    }\n",
              "\n",
              "    .colab-df-convert {\n",
              "      background-color: #E8F0FE;\n",
              "      border: none;\n",
              "      border-radius: 50%;\n",
              "      cursor: pointer;\n",
              "      display: none;\n",
              "      fill: #1967D2;\n",
              "      height: 32px;\n",
              "      padding: 0 0 0 0;\n",
              "      width: 32px;\n",
              "    }\n",
              "\n",
              "    .colab-df-convert:hover {\n",
              "      background-color: #E2EBFA;\n",
              "      box-shadow: 0px 1px 2px rgba(60, 64, 67, 0.3), 0px 1px 3px 1px rgba(60, 64, 67, 0.15);\n",
              "      fill: #174EA6;\n",
              "    }\n",
              "\n",
              "    [theme=dark] .colab-df-convert {\n",
              "      background-color: #3B4455;\n",
              "      fill: #D2E3FC;\n",
              "    }\n",
              "\n",
              "    [theme=dark] .colab-df-convert:hover {\n",
              "      background-color: #434B5C;\n",
              "      box-shadow: 0px 1px 3px 1px rgba(0, 0, 0, 0.15);\n",
              "      filter: drop-shadow(0px 1px 2px rgba(0, 0, 0, 0.3));\n",
              "      fill: #FFFFFF;\n",
              "    }\n",
              "  </style>\n",
              "\n",
              "      <script>\n",
              "        const buttonEl =\n",
              "          document.querySelector('#df-16403d88-1588-44f1-9a26-6fad1d784e43 button.colab-df-convert');\n",
              "        buttonEl.style.display =\n",
              "          google.colab.kernel.accessAllowed ? 'block' : 'none';\n",
              "\n",
              "        async function convertToInteractive(key) {\n",
              "          const element = document.querySelector('#df-16403d88-1588-44f1-9a26-6fad1d784e43');\n",
              "          const dataTable =\n",
              "            await google.colab.kernel.invokeFunction('convertToInteractive',\n",
              "                                                     [key], {});\n",
              "          if (!dataTable) return;\n",
              "\n",
              "          const docLinkHtml = 'Like what you see? Visit the ' +\n",
              "            '<a target=\"_blank\" href=https://colab.research.google.com/notebooks/data_table.ipynb>data table notebook</a>'\n",
              "            + ' to learn more about interactive tables.';\n",
              "          element.innerHTML = '';\n",
              "          dataTable['output_type'] = 'display_data';\n",
              "          await google.colab.output.renderOutput(dataTable, element);\n",
              "          const docLink = document.createElement('div');\n",
              "          docLink.innerHTML = docLinkHtml;\n",
              "          element.appendChild(docLink);\n",
              "        }\n",
              "      </script>\n",
              "    </div>\n",
              "  </div>\n",
              "  "
            ]
          },
          "metadata": {},
          "execution_count": 4
        }
      ]
    },
    {
      "cell_type": "markdown",
      "source": [
        "### Identify missing values"
      ],
      "metadata": {
        "id": "vnHnI8bTBGu9"
      }
    },
    {
      "cell_type": "code",
      "source": [
        "weather_df.isnull().sum()"
      ],
      "metadata": {
        "colab": {
          "base_uri": "https://localhost:8080/"
        },
        "id": "fTG7tP_qBOxG",
        "outputId": "d159d159-2c15-41ba-b96c-ff5b9c207cd9"
      },
      "execution_count": 5,
      "outputs": [
        {
          "output_type": "execute_result",
          "data": {
            "text/plain": [
              "Date                 0\n",
              "Location             0\n",
              "MinTemp           1485\n",
              "MaxTemp           1261\n",
              "Rainfall          3261\n",
              "Evaporation      62790\n",
              "Sunshine         69835\n",
              "WindGustDir      10326\n",
              "WindGustSpeed    10263\n",
              "WindDir9am       10566\n",
              "WindDir3pm        4228\n",
              "WindSpeed9am      1767\n",
              "WindSpeed3pm      3062\n",
              "Humidity9am       2654\n",
              "Humidity3pm       4507\n",
              "Pressure9am      15065\n",
              "Pressure3pm      15028\n",
              "Cloud9am         55888\n",
              "Cloud3pm         59358\n",
              "Temp9am           1767\n",
              "Temp3pm           3609\n",
              "RainToday         3261\n",
              "RainTomorrow      3267\n",
              "dtype: int64"
            ]
          },
          "metadata": {},
          "execution_count": 5
        }
      ]
    },
    {
      "cell_type": "code",
      "source": [
        "weather_df.shape"
      ],
      "metadata": {
        "colab": {
          "base_uri": "https://localhost:8080/"
        },
        "id": "gJTbzSZXBZC9",
        "outputId": "e19cbf22-3406-4aee-cfd3-a6af6bd3de87"
      },
      "execution_count": 6,
      "outputs": [
        {
          "output_type": "execute_result",
          "data": {
            "text/plain": [
              "(145460, 23)"
            ]
          },
          "metadata": {},
          "execution_count": 6
        }
      ]
    },
    {
      "cell_type": "markdown",
      "source": [
        "### Drop Missing Values"
      ],
      "metadata": {
        "id": "K2XFVJo6Bpnk"
      }
    },
    {
      "cell_type": "code",
      "source": [
        "weather_df_na_dropped = weather_df[:].dropna()"
      ],
      "metadata": {
        "id": "pvESUT1yBrYq"
      },
      "execution_count": 8,
      "outputs": []
    },
    {
      "cell_type": "code",
      "source": [
        "weather_df_na_dropped.shape"
      ],
      "metadata": {
        "colab": {
          "base_uri": "https://localhost:8080/"
        },
        "id": "N2hFitRZB1EC",
        "outputId": "723bfad1-d691-4ed2-f451-b64f92d14771"
      },
      "execution_count": 9,
      "outputs": [
        {
          "output_type": "execute_result",
          "data": {
            "text/plain": [
              "(56420, 23)"
            ]
          },
          "metadata": {},
          "execution_count": 9
        }
      ]
    },
    {
      "cell_type": "markdown",
      "source": [
        "### Data type checking and transformation"
      ],
      "metadata": {
        "id": "IhqwvwMzCAml"
      }
    },
    {
      "cell_type": "code",
      "source": [
        "weather_df_na_dropped.dtypes"
      ],
      "metadata": {
        "colab": {
          "base_uri": "https://localhost:8080/"
        },
        "id": "yccF2ub-CDkL",
        "outputId": "28667f0b-500b-493d-e42f-64ab5ddc451a"
      },
      "execution_count": 10,
      "outputs": [
        {
          "output_type": "execute_result",
          "data": {
            "text/plain": [
              "Date              object\n",
              "Location          object\n",
              "MinTemp          float64\n",
              "MaxTemp          float64\n",
              "Rainfall         float64\n",
              "Evaporation      float64\n",
              "Sunshine         float64\n",
              "WindGustDir       object\n",
              "WindGustSpeed    float64\n",
              "WindDir9am        object\n",
              "WindDir3pm        object\n",
              "WindSpeed9am     float64\n",
              "WindSpeed3pm     float64\n",
              "Humidity9am      float64\n",
              "Humidity3pm      float64\n",
              "Pressure9am      float64\n",
              "Pressure3pm      float64\n",
              "Cloud9am         float64\n",
              "Cloud3pm         float64\n",
              "Temp9am          float64\n",
              "Temp3pm          float64\n",
              "RainToday         object\n",
              "RainTomorrow      object\n",
              "dtype: object"
            ]
          },
          "metadata": {},
          "execution_count": 10
        }
      ]
    },
    {
      "cell_type": "code",
      "source": [
        "# Encode columns that have 'object' data type"
      ],
      "metadata": {
        "id": "wC1hn1XCCGKq"
      },
      "execution_count": 11,
      "outputs": []
    },
    {
      "cell_type": "code",
      "source": [
        "features_to_encode = list(weather_df_na_dropped.select_dtypes(include = ['object']).columns)\n",
        "features_to_encode"
      ],
      "metadata": {
        "colab": {
          "base_uri": "https://localhost:8080/"
        },
        "id": "F_WIGt_JCKnA",
        "outputId": "aff920a1-654e-4e80-f733-7b08b969d019"
      },
      "execution_count": 12,
      "outputs": [
        {
          "output_type": "execute_result",
          "data": {
            "text/plain": [
              "['Date',\n",
              " 'Location',\n",
              " 'WindGustDir',\n",
              " 'WindDir9am',\n",
              " 'WindDir3pm',\n",
              " 'RainToday',\n",
              " 'RainTomorrow']"
            ]
          },
          "metadata": {},
          "execution_count": 12
        }
      ]
    },
    {
      "cell_type": "code",
      "source": [
        "# Location\n",
        "loc_unique = weather_df_na_dropped['Location'].unique()\n",
        "loc_unique = loc_unique.tolist()\n",
        "loc_d = {}\n",
        "for idx,val in enumerate(loc_unique):\n",
        "    loc_d[val]=idx\n",
        "print(loc_d)\n",
        "weather_df_na_dropped['Location'] = weather_df_na_dropped['Location'].map(loc_d)"
      ],
      "metadata": {
        "colab": {
          "base_uri": "https://localhost:8080/"
        },
        "id": "0T_36SkSCUTo",
        "outputId": "dac2362b-cf9b-42ad-8c3f-5b3660444f4c"
      },
      "execution_count": 13,
      "outputs": [
        {
          "output_type": "stream",
          "name": "stdout",
          "text": [
            "{'Cobar': 0, 'CoffsHarbour': 1, 'Moree': 2, 'NorfolkIsland': 3, 'Sydney': 4, 'SydneyAirport': 5, 'WaggaWagga': 6, 'Williamtown': 7, 'Canberra': 8, 'Sale': 9, 'MelbourneAirport': 10, 'Melbourne': 11, 'Mildura': 12, 'Portland': 13, 'Watsonia': 14, 'Brisbane': 15, 'Cairns': 16, 'Townsville': 17, 'MountGambier': 18, 'Nuriootpa': 19, 'Woomera': 20, 'PerthAirport': 21, 'Perth': 22, 'Hobart': 23, 'AliceSprings': 24, 'Darwin': 25}\n"
          ]
        }
      ]
    },
    {
      "cell_type": "code",
      "source": [
        "# WindGustDir\n",
        "wgd_unique = weather_df_na_dropped['WindGustDir'].unique()\n",
        "wgd_unique = wgd_unique.tolist()\n",
        "wgd_d = {}\n",
        "for idx,val in enumerate(wgd_unique):\n",
        "    wgd_d[val]=idx\n",
        "print(wgd_d)\n",
        "weather_df_na_dropped['WindGustDir'] = weather_df_na_dropped['WindGustDir'].map(wgd_d)"
      ],
      "metadata": {
        "colab": {
          "base_uri": "https://localhost:8080/"
        },
        "id": "1likg2IoCttg",
        "outputId": "45adba5a-a171-4bd6-c5de-584de6dfd03d"
      },
      "execution_count": 14,
      "outputs": [
        {
          "output_type": "stream",
          "name": "stdout",
          "text": [
            "{'SSW': 0, 'S': 1, 'NNE': 2, 'WNW': 3, 'N': 4, 'SE': 5, 'ENE': 6, 'NE': 7, 'E': 8, 'SW': 9, 'W': 10, 'WSW': 11, 'NNW': 12, 'ESE': 13, 'SSE': 14, 'NW': 15}\n"
          ]
        }
      ]
    },
    {
      "cell_type": "code",
      "source": [
        "# WindDir9am\n",
        "wd9_unique = weather_df_na_dropped['WindDir9am'].unique()\n",
        "wd9_unique = wd9_unique.tolist()\n",
        "wd9_d = {}\n",
        "for idx,val in enumerate(wd9_unique):\n",
        "    wd9_d[val]=idx\n",
        "print(wd9_d)\n",
        "weather_df_na_dropped['WindDir9am'] = weather_df_na_dropped['WindDir9am'].map(wd9_d)"
      ],
      "metadata": {
        "colab": {
          "base_uri": "https://localhost:8080/"
        },
        "id": "bAmGAC2xC7S7",
        "outputId": "f3fa7ff8-32f1-415b-c544-14e5b12f5565"
      },
      "execution_count": 15,
      "outputs": [
        {
          "output_type": "stream",
          "name": "stdout",
          "text": [
            "{'ENE': 0, 'SSE': 1, 'NNE': 2, 'WNW': 3, 'NW': 4, 'N': 5, 'S': 6, 'SE': 7, 'NE': 8, 'W': 9, 'SSW': 10, 'E': 11, 'NNW': 12, 'ESE': 13, 'WSW': 14, 'SW': 15}\n"
          ]
        }
      ]
    },
    {
      "cell_type": "code",
      "source": [
        "# WindDir3pm\n",
        "wd3_unique = weather_df_na_dropped['WindDir3pm'].unique()\n",
        "wd3_unique = wd3_unique.tolist()\n",
        "wd3_d = {}\n",
        "for idx,val in enumerate(wd3_unique):\n",
        "    wd3_d[val]=idx\n",
        "print(wd3_d)\n",
        "weather_df_na_dropped['WindDir3pm'] = weather_df_na_dropped['WindDir3pm'].map(wd3_d)"
      ],
      "metadata": {
        "colab": {
          "base_uri": "https://localhost:8080/"
        },
        "id": "5RZ6XHKZDI2H",
        "outputId": "b5f6a364-e9bd-4f60-cad5-a03339e011ce"
      },
      "execution_count": 16,
      "outputs": [
        {
          "output_type": "stream",
          "name": "stdout",
          "text": [
            "{'SW': 0, 'SSE': 1, 'NNW': 2, 'WSW': 3, 'WNW': 4, 'S': 5, 'ENE': 6, 'N': 7, 'SE': 8, 'NNE': 9, 'NW': 10, 'E': 11, 'ESE': 12, 'NE': 13, 'SSW': 14, 'W': 15}\n"
          ]
        }
      ]
    },
    {
      "cell_type": "code",
      "source": [
        "# RainToday\n",
        "rt_unique = weather_df_na_dropped['RainToday'].unique()\n",
        "rt_unique = rt_unique.tolist()\n",
        "rt_d = {}\n",
        "for idx,val in enumerate(rt_unique):\n",
        "    rt_d[val]=idx\n",
        "print(rt_d)\n",
        "weather_df_na_dropped['RainToday'] = weather_df_na_dropped['RainToday'].map(rt_d)"
      ],
      "metadata": {
        "colab": {
          "base_uri": "https://localhost:8080/"
        },
        "id": "rnRVo-V5DSKU",
        "outputId": "9d0abcd0-28af-4914-8e95-e34fbace8bb9"
      },
      "execution_count": 17,
      "outputs": [
        {
          "output_type": "stream",
          "name": "stdout",
          "text": [
            "{'No': 0, 'Yes': 1}\n"
          ]
        }
      ]
    },
    {
      "cell_type": "code",
      "source": [
        "# RainTomorrow\n",
        "rtm_unique = weather_df_na_dropped['RainTomorrow'].unique()\n",
        "rtm_unique = rtm_unique.tolist()\n",
        "rtm_d = {}\n",
        "for idx,val in enumerate(rtm_unique):\n",
        "    rtm_d[val]=idx\n",
        "print(rtm_d)\n",
        "weather_df_na_dropped['RainTomorrow'] = weather_df_na_dropped['RainTomorrow'].map(rtm_d)"
      ],
      "metadata": {
        "colab": {
          "base_uri": "https://localhost:8080/"
        },
        "id": "E9KE8x9IDeqR",
        "outputId": "371c80de-798f-49e6-ff82-6eeed287fbef"
      },
      "execution_count": 18,
      "outputs": [
        {
          "output_type": "stream",
          "name": "stdout",
          "text": [
            "{'No': 0, 'Yes': 1}\n"
          ]
        }
      ]
    },
    {
      "cell_type": "markdown",
      "source": [
        "### Split dataset to X (independent variables) and y (dependent variable)"
      ],
      "metadata": {
        "id": "BLFZkLoIDquO"
      }
    },
    {
      "cell_type": "code",
      "source": [
        "attributes = list(weather_df_na_dropped.columns)\n",
        "features = attributes[:-1]\n",
        "target = attributes[-1]\n",
        "print(f\"List of features: {features}; target: {target}\")"
      ],
      "metadata": {
        "colab": {
          "base_uri": "https://localhost:8080/"
        },
        "id": "ASM-DedRDvC-",
        "outputId": "5a0fdd73-a5d0-4b8f-d8fd-4e27c8ceeb34"
      },
      "execution_count": 19,
      "outputs": [
        {
          "output_type": "stream",
          "name": "stdout",
          "text": [
            "List of features: ['Date', 'Location', 'MinTemp', 'MaxTemp', 'Rainfall', 'Evaporation', 'Sunshine', 'WindGustDir', 'WindGustSpeed', 'WindDir9am', 'WindDir3pm', 'WindSpeed9am', 'WindSpeed3pm', 'Humidity9am', 'Humidity3pm', 'Pressure9am', 'Pressure3pm', 'Cloud9am', 'Cloud3pm', 'Temp9am', 'Temp3pm', 'RainToday']; target: RainTomorrow\n"
          ]
        }
      ]
    },
    {
      "cell_type": "code",
      "source": [
        "# Drop Date feature\n",
        "features.remove('Date')"
      ],
      "metadata": {
        "id": "twmgUmc6D9f5"
      },
      "execution_count": 20,
      "outputs": []
    },
    {
      "cell_type": "code",
      "source": [
        "print(f\"List of features: {features}; target: {target}\")"
      ],
      "metadata": {
        "colab": {
          "base_uri": "https://localhost:8080/"
        },
        "id": "9rvofOm2ED4E",
        "outputId": "aabbdccc-ef7d-4d07-8d79-1adb6fe06e22"
      },
      "execution_count": 21,
      "outputs": [
        {
          "output_type": "stream",
          "name": "stdout",
          "text": [
            "List of features: ['Location', 'MinTemp', 'MaxTemp', 'Rainfall', 'Evaporation', 'Sunshine', 'WindGustDir', 'WindGustSpeed', 'WindDir9am', 'WindDir3pm', 'WindSpeed9am', 'WindSpeed3pm', 'Humidity9am', 'Humidity3pm', 'Pressure9am', 'Pressure3pm', 'Cloud9am', 'Cloud3pm', 'Temp9am', 'Temp3pm', 'RainToday']; target: RainTomorrow\n"
          ]
        }
      ]
    },
    {
      "cell_type": "code",
      "source": [
        "X = weather_df_na_dropped[features].values\n",
        "y = weather_df_na_dropped[target].values.flatten()"
      ],
      "metadata": {
        "id": "CLlF8JjiEWQl"
      },
      "execution_count": 22,
      "outputs": []
    },
    {
      "cell_type": "markdown",
      "source": [
        "### Split to train, validation, and test sets"
      ],
      "metadata": {
        "id": "tNLz-NQsEG0x"
      }
    },
    {
      "cell_type": "code",
      "source": [
        "from sklearn.model_selection import train_test_split"
      ],
      "metadata": {
        "id": "R7pvLVC4EKkx"
      },
      "execution_count": 23,
      "outputs": []
    },
    {
      "cell_type": "code",
      "source": [
        "X_train, X_test, y_train, y_test = train_test_split(X, y, test_size=0.2, random_state=0)"
      ],
      "metadata": {
        "id": "mDQqD0XREiTf"
      },
      "execution_count": 24,
      "outputs": []
    },
    {
      "cell_type": "code",
      "source": [
        "X_train, X_val, y_train, y_val = train_test_split(X_train, y_train, test_size=0.1, random_state=0)"
      ],
      "metadata": {
        "id": "WjKdtOalEl0v"
      },
      "execution_count": 25,
      "outputs": []
    },
    {
      "cell_type": "markdown",
      "source": [
        "### Imbalanced Data Analysis"
      ],
      "metadata": {
        "id": "3MX1ZYXdEpck"
      }
    },
    {
      "cell_type": "code",
      "source": [
        "from collections import Counter\n",
        "from imblearn.over_sampling import SMOTE\n",
        "import matplotlib.pyplot as plt"
      ],
      "metadata": {
        "id": "uSANZ7LlEr5p"
      },
      "execution_count": 26,
      "outputs": []
    },
    {
      "cell_type": "code",
      "source": [
        "counter = Counter(y_train)\n",
        "plt.bar(counter.keys(), counter.values())\n",
        "for k, v in counter.items():\n",
        "    dist = v/len(y_train) * 100\n",
        "    print(f\"Class={k}, n={v} ({dist}%)\")"
      ],
      "metadata": {
        "colab": {
          "base_uri": "https://localhost:8080/",
          "height": 300
        },
        "id": "0WPIIO7kEu5a",
        "outputId": "302efe78-9372-4622-94b3-a24e6649cd92"
      },
      "execution_count": 27,
      "outputs": [
        {
          "output_type": "stream",
          "name": "stdout",
          "text": [
            "Class=0, n=31622 (77.844517749003%)\n",
            "Class=1, n=9000 (22.155482250996997%)\n"
          ]
        },
        {
          "output_type": "display_data",
          "data": {
            "text/plain": [
              "<Figure size 432x288 with 1 Axes>"
            ],
            "image/png": "[encoded data removed]"
          },
          "metadata": {
            "needs_background": "light"
          }
        }
      ]
    },
    {
      "cell_type": "markdown",
      "source": [
        "Bisa dilihat bahwa dataset yang diberikan merupakan imbalanced data. Maka dari itu, resampling akan dilakukan."
      ],
      "metadata": {
        "id": "qZPB7G-IEy9C"
      }
    },
    {
      "cell_type": "markdown",
      "source": [
        "#### Resampling with SMOTE"
      ],
      "metadata": {
        "id": "6VOjyDQXE7ik"
      }
    },
    {
      "cell_type": "code",
      "source": [
        "smote = SMOTE()\n",
        "X_train_smote, y_train_smote = smote.fit_resample(X_train, y_train)"
      ],
      "metadata": {
        "id": "Aq6M38JCE88H"
      },
      "execution_count": 28,
      "outputs": []
    },
    {
      "cell_type": "code",
      "source": [
        "counter = Counter(y_train_smote)\n",
        "plt.bar(counter.keys(), counter.values())\n",
        "for k, v in counter.items():\n",
        "    dist = v/len(y_train_smote) * 100\n",
        "    print(f\"Class={k}, n={v} ({dist}%)\")"
      ],
      "metadata": {
        "colab": {
          "base_uri": "https://localhost:8080/",
          "height": 300
        },
        "id": "lpqkSdriFCdD",
        "outputId": "b77372ef-2da0-4c69-eb71-f45d5c483639"
      },
      "execution_count": 29,
      "outputs": [
        {
          "output_type": "stream",
          "name": "stdout",
          "text": [
            "Class=0, n=31622 (50.0%)\n",
            "Class=1, n=31622 (50.0%)\n"
          ]
        },
        {
          "output_type": "display_data",
          "data": {
            "text/plain": [
              "<Figure size 432x288 with 1 Axes>"
            ],
            "image/png": "[encoded data removed]"
          },
          "metadata": {
            "needs_background": "light"
          }
        }
      ]
    },
    {
      "cell_type": "markdown",
      "source": [
        "## Exploratory Data Analysis (EDA)"
      ],
      "metadata": {
        "id": "xqrJVthbFHde"
      }
    },
    {
      "cell_type": "code",
      "source": [
        "import seaborn as sns\n",
        "# Shows plots in jupyter notebook\n",
        "%matplotlib inline\n",
        "\n",
        "# Set plot style\n",
        "sns.set(color_codes=True)"
      ],
      "metadata": {
        "id": "MNlZSl2EFKgM"
      },
      "execution_count": 31,
      "outputs": []
    },
    {
      "cell_type": "code",
      "source": [
        "weather_df_na_dropped.info()"
      ],
      "metadata": {
        "colab": {
          "base_uri": "https://localhost:8080/"
        },
        "id": "L_KbvWWbFR_G",
        "outputId": "3af6079e-bb7e-474f-9da0-e39e4da0fe86"
      },
      "execution_count": 32,
      "outputs": [
        {
          "output_type": "stream",
          "name": "stdout",
          "text": [
            "<class 'pandas.core.frame.DataFrame'>\n",
            "Int64Index: 56420 entries, 6049 to 142302\n",
            "Data columns (total 23 columns):\n",
            " #   Column         Non-Null Count  Dtype  \n",
            "---  ------         --------------  -----  \n",
            " 0   Date           56420 non-null  object \n",
            " 1   Location       56420 non-null  int64  \n",
            " 2   MinTemp        56420 non-null  float64\n",
            " 3   MaxTemp        56420 non-null  float64\n",
            " 4   Rainfall       56420 non-null  float64\n",
            " 5   Evaporation    56420 non-null  float64\n",
            " 6   Sunshine       56420 non-null  float64\n",
            " 7   WindGustDir    56420 non-null  int64  \n",
            " 8   WindGustSpeed  56420 non-null  float64\n",
            " 9   WindDir9am     56420 non-null  int64  \n",
            " 10  WindDir3pm     56420 non-null  int64  \n",
            " 11  WindSpeed9am   56420 non-null  float64\n",
            " 12  WindSpeed3pm   56420 non-null  float64\n",
            " 13  Humidity9am    56420 non-null  float64\n",
            " 14  Humidity3pm    56420 non-null  float64\n",
            " 15  Pressure9am    56420 non-null  float64\n",
            " 16  Pressure3pm    56420 non-null  float64\n",
            " 17  Cloud9am       56420 non-null  float64\n",
            " 18  Cloud3pm       56420 non-null  float64\n",
            " 19  Temp9am        56420 non-null  float64\n",
            " 20  Temp3pm        56420 non-null  float64\n",
            " 21  RainToday      56420 non-null  int64  \n",
            " 22  RainTomorrow   56420 non-null  int64  \n",
            "dtypes: float64(16), int64(6), object(1)\n",
            "memory usage: 10.3+ MB\n"
          ]
        }
      ]
    },
    {
      "cell_type": "markdown",
      "source": [
        "### Statistics"
      ],
      "metadata": {
        "id": "MpgkD9jHFbVC"
      }
    },
    {
      "cell_type": "code",
      "source": [
        "weather_df_na_dropped.describe()"
      ],
      "metadata": {
        "colab": {
          "base_uri": "https://localhost:8080/",
          "height": 394
        },
        "id": "r4b2CZnTFcup",
        "outputId": "3115740b-0d3a-4ef5-ed25-596df41cc719"
      },
      "execution_count": 33,
      "outputs": [
        {
          "output_type": "execute_result",
          "data": {
            "text/plain": [
              "           Location       MinTemp       MaxTemp      Rainfall   Evaporation  \\\n",
              "count  56420.000000  56420.000000  56420.000000  56420.000000  56420.000000   \n",
              "mean      13.612141     13.464770     24.219206      2.130397      5.503135   \n",
              "std        7.227951      6.416689      6.970676      7.014822      3.696282   \n",
              "min        0.000000     -6.700000      4.100000      0.000000      0.000000   \n",
              "25%        7.000000      8.600000     18.700000      0.000000      2.800000   \n",
              "50%       14.000000     13.200000     23.900000      0.000000      5.000000   \n",
              "75%       20.000000     18.400000     29.700000      0.600000      7.400000   \n",
              "max       25.000000     31.400000     48.100000    206.200000     81.200000   \n",
              "\n",
              "           Sunshine   WindGustDir  WindGustSpeed    WindDir9am    WindDir3pm  \\\n",
              "count  56420.000000  56420.000000   56420.000000  56420.000000  56420.000000   \n",
              "mean       7.735626      7.308206      40.877366      7.357799      7.491989   \n",
              "std        3.758153      4.433184      13.335232      4.573627      4.645965   \n",
              "min        0.000000      0.000000       9.000000      0.000000      0.000000   \n",
              "25%        5.000000      4.000000      31.000000      4.000000      4.000000   \n",
              "50%        8.600000      7.000000      39.000000      7.000000      7.000000   \n",
              "75%       10.700000     11.000000      48.000000     11.000000     12.000000   \n",
              "max       14.500000     15.000000     124.000000     15.000000     15.000000   \n",
              "\n",
              "       ...   Humidity9am   Humidity3pm   Pressure9am   Pressure3pm  \\\n",
              "count  ...  56420.000000  56420.000000  56420.000000  56420.000000   \n",
              "mean   ...     65.874123     49.601985   1017.239505   1014.795580   \n",
              "std    ...     18.513289     20.197040      6.909357      6.870892   \n",
              "min    ...      0.000000      0.000000    980.500000    977.100000   \n",
              "25%    ...     55.000000     35.000000   1012.700000   1010.100000   \n",
              "50%    ...     67.000000     50.000000   1017.200000   1014.700000   \n",
              "75%    ...     79.000000     63.000000   1021.800000   1019.400000   \n",
              "max    ...    100.000000    100.000000   1040.400000   1038.900000   \n",
              "\n",
              "           Cloud9am      Cloud3pm       Temp9am       Temp3pm     RainToday  \\\n",
              "count  56420.000000  56420.000000  56420.000000  56420.000000  56420.000000   \n",
              "mean       4.241705      4.326515     18.204961     22.710333      0.220879   \n",
              "std        2.797162      2.647251      6.567991      6.836543      0.414843   \n",
              "min        0.000000      0.000000     -0.700000      3.700000      0.000000   \n",
              "25%        1.000000      2.000000     13.100000     17.400000      0.000000   \n",
              "50%        5.000000      5.000000     17.800000     22.400000      0.000000   \n",
              "75%        7.000000      7.000000     23.300000     27.900000      0.000000   \n",
              "max        8.000000      9.000000     39.400000     46.100000      1.000000   \n",
              "\n",
              "       RainTomorrow  \n",
              "count  56420.000000  \n",
              "mean       0.220259  \n",
              "std        0.414425  \n",
              "min        0.000000  \n",
              "25%        0.000000  \n",
              "50%        0.000000  \n",
              "75%        0.000000  \n",
              "max        1.000000  \n",
              "\n",
              "[8 rows x 22 columns]"
            ],
            "text/html": [
              "\n",
              "  <div id=\"df-23662efb-689c-44cb-8cc1-ccae34458361\">\n",
              "    <div class=\"colab-df-container\">\n",
              "      <div>\n",
              "<style scoped>\n",
              "    .dataframe tbody tr th:only-of-type {\n",
              "        vertical-align: middle;\n",
              "    }\n",
              "\n",
              "    .dataframe tbody tr th {\n",
              "        vertical-align: top;\n",
              "    }\n",
              "\n",
              "    .dataframe thead th {\n",
              "        text-align: right;\n",
              "    }\n",
              "</style>\n",
              "<table border=\"1\" class=\"dataframe\">\n",
              "  <thead>\n",
              "    <tr style=\"text-align: right;\">\n",
              "      <th></th>\n",
              "      <th>Location</th>\n",
              "      <th>MinTemp</th>\n",
              "      <th>MaxTemp</th>\n",
              "      <th>Rainfall</th>\n",
              "      <th>Evaporation</th>\n",
              "      <th>Sunshine</th>\n",
              "      <th>WindGustDir</th>\n",
              "      <th>WindGustSpeed</th>\n",
              "      <th>WindDir9am</th>\n",
              "      <th>WindDir3pm</th>\n",
              "      <th>...</th>\n",
              "      <th>Humidity9am</th>\n",
              "      <th>Humidity3pm</th>\n",
              "      <th>Pressure9am</th>\n",
              "      <th>Pressure3pm</th>\n",
              "      <th>Cloud9am</th>\n",
              "      <th>Cloud3pm</th>\n",
              "      <th>Temp9am</th>\n",
              "      <th>Temp3pm</th>\n",
              "      <th>RainToday</th>\n",
              "      <th>RainTomorrow</th>\n",
              "    </tr>\n",
              "  </thead>\n",
              "  <tbody>\n",
              "    <tr>\n",
              "      <th>count</th>\n",
              "      <td>56420.000000</td>\n",
              "      <td>56420.000000</td>\n",
              "      <td>56420.000000</td>\n",
              "      <td>56420.000000</td>\n",
              "      <td>56420.000000</td>\n",
              "      <td>56420.000000</td>\n",
              "      <td>56420.000000</td>\n",
              "      <td>56420.000000</td>\n",
              "      <td>56420.000000</td>\n",
              "      <td>56420.000000</td>\n",
              "      <td>...</td>\n",
              "      <td>56420.000000</td>\n",
              "      <td>56420.000000</td>\n",
              "      <td>56420.000000</td>\n",
              "      <td>56420.000000</td>\n",
              "      <td>56420.000000</td>\n",
              "      <td>56420.000000</td>\n",
              "      <td>56420.000000</td>\n",
              "      <td>56420.000000</td>\n",
              "      <td>56420.000000</td>\n",
              "      <td>56420.000000</td>\n",
              "    </tr>\n",
              "    <tr>\n",
              "      <th>mean</th>\n",
              "      <td>13.612141</td>\n",
              "      <td>13.464770</td>\n",
              "      <td>24.219206</td>\n",
              "      <td>2.130397</td>\n",
              "      <td>5.503135</td>\n",
              "      <td>7.735626</td>\n",
              "      <td>7.308206</td>\n",
              "      <td>40.877366</td>\n",
              "      <td>7.357799</td>\n",
              "      <td>7.491989</td>\n",
              "      <td>...</td>\n",
              "      <td>65.874123</td>\n",
              "      <td>49.601985</td>\n",
              "      <td>1017.239505</td>\n",
              "      <td>1014.795580</td>\n",
              "      <td>4.241705</td>\n",
              "      <td>4.326515</td>\n",
              "      <td>18.204961</td>\n",
              "      <td>22.710333</td>\n",
              "      <td>0.220879</td>\n",
              "      <td>0.220259</td>\n",
              "    </tr>\n",
              "    <tr>\n",
              "      <th>std</th>\n",
              "      <td>7.227951</td>\n",
              "      <td>6.416689</td>\n",
              "      <td>6.970676</td>\n",
              "      <td>7.014822</td>\n",
              "      <td>3.696282</td>\n",
              "      <td>3.758153</td>\n",
              "      <td>4.433184</td>\n",
              "      <td>13.335232</td>\n",
              "      <td>4.573627</td>\n",
              "      <td>4.645965</td>\n",
              "      <td>...</td>\n",
              "      <td>18.513289</td>\n",
              "      <td>20.197040</td>\n",
              "      <td>6.909357</td>\n",
              "      <td>6.870892</td>\n",
              "      <td>2.797162</td>\n",
              "      <td>2.647251</td>\n",
              "      <td>6.567991</td>\n",
              "      <td>6.836543</td>\n",
              "      <td>0.414843</td>\n",
              "      <td>0.414425</td>\n",
              "    </tr>\n",
              "    <tr>\n",
              "      <th>min</th>\n",
              "      <td>0.000000</td>\n",
              "      <td>-6.700000</td>\n",
              "      <td>4.100000</td>\n",
              "      <td>0.000000</td>\n",
              "      <td>0.000000</td>\n",
              "      <td>0.000000</td>\n",
              "      <td>0.000000</td>\n",
              "      <td>9.000000</td>\n",
              "      <td>0.000000</td>\n",
              "      <td>0.000000</td>\n",
              "      <td>...</td>\n",
              "      <td>0.000000</td>\n",
              "      <td>0.000000</td>\n",
              "      <td>980.500000</td>\n",
              "      <td>977.100000</td>\n",
              "      <td>0.000000</td>\n",
              "      <td>0.000000</td>\n",
              "      <td>-0.700000</td>\n",
              "      <td>3.700000</td>\n",
              "      <td>0.000000</td>\n",
              "      <td>0.000000</td>\n",
              "    </tr>\n",
              "    <tr>\n",
              "      <th>25%</th>\n",
              "      <td>7.000000</td>\n",
              "      <td>8.600000</td>\n",
              "      <td>18.700000</td>\n",
              "      <td>0.000000</td>\n",
              "      <td>2.800000</td>\n",
              "      <td>5.000000</td>\n",
              "      <td>4.000000</td>\n",
              "      <td>31.000000</td>\n",
              "      <td>4.000000</td>\n",
              "      <td>4.000000</td>\n",
              "      <td>...</td>\n",
              "      <td>55.000000</td>\n",
              "      <td>35.000000</td>\n",
              "      <td>1012.700000</td>\n",
              "      <td>1010.100000</td>\n",
              "      <td>1.000000</td>\n",
              "      <td>2.000000</td>\n",
              "      <td>13.100000</td>\n",
              "      <td>17.400000</td>\n",
              "      <td>0.000000</td>\n",
              "      <td>0.000000</td>\n",
              "    </tr>\n",
              "    <tr>\n",
              "      <th>50%</th>\n",
              "      <td>14.000000</td>\n",
              "      <td>13.200000</td>\n",
              "      <td>23.900000</td>\n",
              "      <td>0.000000</td>\n",
              "      <td>5.000000</td>\n",
              "      <td>8.600000</td>\n",
              "      <td>7.000000</td>\n",
              "      <td>39.000000</td>\n",
              "      <td>7.000000</td>\n",
              "      <td>7.000000</td>\n",
              "      <td>...</td>\n",
              "      <td>67.000000</td>\n",
              "      <td>50.000000</td>\n",
              "      <td>1017.200000</td>\n",
              "      <td>1014.700000</td>\n",
              "      <td>5.000000</td>\n",
              "      <td>5.000000</td>\n",
              "      <td>17.800000</td>\n",
              "      <td>22.400000</td>\n",
              "      <td>0.000000</td>\n",
              "      <td>0.000000</td>\n",
              "    </tr>\n",
              "    <tr>\n",
              "      <th>75%</th>\n",
              "      <td>20.000000</td>\n",
              "      <td>18.400000</td>\n",
              "      <td>29.700000</td>\n",
              "      <td>0.600000</td>\n",
              "      <td>7.400000</td>\n",
              "      <td>10.700000</td>\n",
              "      <td>11.000000</td>\n",
              "      <td>48.000000</td>\n",
              "      <td>11.000000</td>\n",
              "      <td>12.000000</td>\n",
              "      <td>...</td>\n",
              "      <td>79.000000</td>\n",
              "      <td>63.000000</td>\n",
              "      <td>1021.800000</td>\n",
              "      <td>1019.400000</td>\n",
              "      <td>7.000000</td>\n",
              "      <td>7.000000</td>\n",
              "      <td>23.300000</td>\n",
              "      <td>27.900000</td>\n",
              "      <td>0.000000</td>\n",
              "      <td>0.000000</td>\n",
              "    </tr>\n",
              "    <tr>\n",
              "      <th>max</th>\n",
              "      <td>25.000000</td>\n",
              "      <td>31.400000</td>\n",
              "      <td>48.100000</td>\n",
              "      <td>206.200000</td>\n",
              "      <td>81.200000</td>\n",
              "      <td>14.500000</td>\n",
              "      <td>15.000000</td>\n",
              "      <td>124.000000</td>\n",
              "      <td>15.000000</td>\n",
              "      <td>15.000000</td>\n",
              "      <td>...</td>\n",
              "      <td>100.000000</td>\n",
              "      <td>100.000000</td>\n",
              "      <td>1040.400000</td>\n",
              "      <td>1038.900000</td>\n",
              "      <td>8.000000</td>\n",
              "      <td>9.000000</td>\n",
              "      <td>39.400000</td>\n",
              "      <td>46.100000</td>\n",
              "      <td>1.000000</td>\n",
              "      <td>1.000000</td>\n",
              "    </tr>\n",
              "  </tbody>\n",
              "</table>\n",
              "<p>8 rows × 22 columns</p>\n",
              "</div>\n",
              "      <button class=\"colab-df-convert\" onclick=\"convertToInteractive('df-23662efb-689c-44cb-8cc1-ccae34458361')\"\n",
              "              title=\"Convert this dataframe to an interactive table.\"\n",
              "              style=\"display:none;\">\n",
              "        \n",
              "  <svg xmlns=\"http://www.w3.org/2000/svg\" height=\"24px\"viewBox=\"0 0 24 24\"\n",
              "       width=\"24px\">\n",
              "    <path d=\"M0 0h24v24H0V0z\" fill=\"none\"/>\n",
              "    <path d=\"M18.56 5.44l.94 2.06.94-2.06 2.06-.94-2.06-.94-.94-2.06-.94 2.06-2.06.94zm-11 1L8.5 8.5l.94-2.06 2.06-.94-2.06-.94L8.5 2.5l-.94 2.06-2.06.94zm10 10l.94 2.06.94-2.06 2.06-.94-2.06-.94-.94-2.06-.94 2.06-2.06.94z\"/><path d=\"M17.41 7.96l-1.37-1.37c-.4-.4-.92-.59-1.43-.59-.52 0-1.04.2-1.43.59L10.3 9.45l-7.72 7.72c-.78.78-.78 2.05 0 2.83L4 21.41c.39.39.9.59 1.41.59.51 0 1.02-.2 1.41-.59l7.78-7.78 2.81-2.81c.8-.78.8-2.07 0-2.86zM5.41 20L4 18.59l7.72-7.72 1.47 1.35L5.41 20z\"/>\n",
              "  </svg>\n",
              "      </button>\n",
              "      \n",
              "  <style>\n",
              "    .colab-df-container {\n",
              "      display:flex;\n",
              "      flex-wrap:wrap;\n",
              "      gap: 12px;\n",
              "    }\n",
              "\n",
              "    .colab-df-convert {\n",
              "      background-color: #E8F0FE;\n",
              "      border: none;\n",
              "      border-radius: 50%;\n",
              "      cursor: pointer;\n",
              "      display: none;\n",
              "      fill: #1967D2;\n",
              "      height: 32px;\n",
              "      padding: 0 0 0 0;\n",
              "      width: 32px;\n",
              "    }\n",
              "\n",
              "    .colab-df-convert:hover {\n",
              "      background-color: #E2EBFA;\n",
              "      box-shadow: 0px 1px 2px rgba(60, 64, 67, 0.3), 0px 1px 3px 1px rgba(60, 64, 67, 0.15);\n",
              "      fill: #174EA6;\n",
              "    }\n",
              "\n",
              "    [theme=dark] .colab-df-convert {\n",
              "      background-color: #3B4455;\n",
              "      fill: #D2E3FC;\n",
              "    }\n",
              "\n",
              "    [theme=dark] .colab-df-convert:hover {\n",
              "      background-color: #434B5C;\n",
              "      box-shadow: 0px 1px 3px 1px rgba(0, 0, 0, 0.15);\n",
              "      filter: drop-shadow(0px 1px 2px rgba(0, 0, 0, 0.3));\n",
              "      fill: #FFFFFF;\n",
              "    }\n",
              "  </style>\n",
              "\n",
              "      <script>\n",
              "        const buttonEl =\n",
              "          document.querySelector('#df-23662efb-689c-44cb-8cc1-ccae34458361 button.colab-df-convert');\n",
              "        buttonEl.style.display =\n",
              "          google.colab.kernel.accessAllowed ? 'block' : 'none';\n",
              "\n",
              "        async function convertToInteractive(key) {\n",
              "          const element = document.querySelector('#df-23662efb-689c-44cb-8cc1-ccae34458361');\n",
              "          const dataTable =\n",
              "            await google.colab.kernel.invokeFunction('convertToInteractive',\n",
              "                                                     [key], {});\n",
              "          if (!dataTable) return;\n",
              "\n",
              "          const docLinkHtml = 'Like what you see? Visit the ' +\n",
              "            '<a target=\"_blank\" href=https://colab.research.google.com/notebooks/data_table.ipynb>data table notebook</a>'\n",
              "            + ' to learn more about interactive tables.';\n",
              "          element.innerHTML = '';\n",
              "          dataTable['output_type'] = 'display_data';\n",
              "          await google.colab.output.renderOutput(dataTable, element);\n",
              "          const docLink = document.createElement('div');\n",
              "          docLink.innerHTML = docLinkHtml;\n",
              "          element.appendChild(docLink);\n",
              "        }\n",
              "      </script>\n",
              "    </div>\n",
              "  </div>\n",
              "  "
            ]
          },
          "metadata": {},
          "execution_count": 33
        }
      ]
    },
    {
      "cell_type": "code",
      "source": [
        "# Correlation Coefficient\n",
        "def plot_corr_coef(corr_data):\n",
        "    mask = np.array(corr_data)\n",
        "    mask[np.tril_indices_from(mask)] = False\n",
        "\n",
        "    # create appropriate canvas\n",
        "    fig = plt.figure(figsize=(15,15))\n",
        "    ax = fig.add_subplot(111)\n",
        "\n",
        "    sns.heatmap(corr_data, mask=mask, vmax=.8, square=True, annot=True, ax = ax)"
      ],
      "metadata": {
        "id": "h3Wg3yWGFqTf"
      },
      "execution_count": 34,
      "outputs": []
    },
    {
      "cell_type": "code",
      "source": [
        "corr_data = weather_df_na_dropped.corr()\n",
        "plot_corr_coef(corr_data)"
      ],
      "metadata": {
        "colab": {
          "base_uri": "https://localhost:8080/",
          "height": 691
        },
        "id": "mLf7MnAGFwS1",
        "outputId": "5ea6ac0a-647b-47f8-ca4e-4d98c49e01cb"
      },
      "execution_count": 35,
      "outputs": [
        {
          "output_type": "display_data",
          "data": {
            "text/plain": [
              "<Figure size 1080x1080 with 2 Axes>"
            ],
            "image/png": "[encoded data removed]"
          },
          "metadata": {}
        }
      ]
    },
    {
      "cell_type": "code",
      "source": [
        "corr_coef_to_target = corr_data[['RainTomorrow']]\n",
        "corr_coef_to_target"
      ],
      "metadata": {
        "colab": {
          "base_uri": "https://localhost:8080/",
          "height": 739
        },
        "id": "1GQMVXcsF7RT",
        "outputId": "4818244b-8a57-4901-fba9-c60e474fc206"
      },
      "execution_count": 38,
      "outputs": [
        {
          "output_type": "execute_result",
          "data": {
            "text/plain": [
              "               RainTomorrow\n",
              "Location          -0.029835\n",
              "MinTemp            0.087428\n",
              "MaxTemp           -0.147467\n",
              "Rainfall           0.254342\n",
              "Evaporation       -0.130002\n",
              "Sunshine          -0.453407\n",
              "WindGustDir        0.004890\n",
              "WindGustSpeed      0.233158\n",
              "WindDir9am        -0.016293\n",
              "WindDir3pm         0.002992\n",
              "WindSpeed9am       0.083904\n",
              "WindSpeed3pm       0.088862\n",
              "Humidity9am        0.271033\n",
              "Humidity3pm        0.455358\n",
              "Pressure9am       -0.254816\n",
              "Pressure3pm       -0.230418\n",
              "Cloud9am           0.323972\n",
              "Cloud3pm           0.388574\n",
              "Temp9am           -0.018179\n",
              "Temp3pm           -0.183586\n",
              "RainToday          0.309098\n",
              "RainTomorrow       1.000000"
            ],
            "text/html": [
              "\n",
              "  <div id=\"df-d003e60d-2a73-49b3-8297-4045bf8bec1d\">\n",
              "    <div class=\"colab-df-container\">\n",
              "      <div>\n",
              "<style scoped>\n",
              "    .dataframe tbody tr th:only-of-type {\n",
              "        vertical-align: middle;\n",
              "    }\n",
              "\n",
              "    .dataframe tbody tr th {\n",
              "        vertical-align: top;\n",
              "    }\n",
              "\n",
              "    .dataframe thead th {\n",
              "        text-align: right;\n",
              "    }\n",
              "</style>\n",
              "<table border=\"1\" class=\"dataframe\">\n",
              "  <thead>\n",
              "    <tr style=\"text-align: right;\">\n",
              "      <th></th>\n",
              "      <th>RainTomorrow</th>\n",
              "    </tr>\n",
              "  </thead>\n",
              "  <tbody>\n",
              "    <tr>\n",
              "      <th>Location</th>\n",
              "      <td>-0.029835</td>\n",
              "    </tr>\n",
              "    <tr>\n",
              "      <th>MinTemp</th>\n",
              "      <td>0.087428</td>\n",
              "    </tr>\n",
              "    <tr>\n",
              "      <th>MaxTemp</th>\n",
              "      <td>-0.147467</td>\n",
              "    </tr>\n",
              "    <tr>\n",
              "      <th>Rainfall</th>\n",
              "      <td>0.254342</td>\n",
              "    </tr>\n",
              "    <tr>\n",
              "      <th>Evaporation</th>\n",
              "      <td>-0.130002</td>\n",
              "    </tr>\n",
              "    <tr>\n",
              "      <th>Sunshine</th>\n",
              "      <td>-0.453407</td>\n",
              "    </tr>\n",
              "    <tr>\n",
              "      <th>WindGustDir</th>\n",
              "      <td>0.004890</td>\n",
              "    </tr>\n",
              "    <tr>\n",
              "      <th>WindGustSpeed</th>\n",
              "      <td>0.233158</td>\n",
              "    </tr>\n",
              "    <tr>\n",
              "      <th>WindDir9am</th>\n",
              "      <td>-0.016293</td>\n",
              "    </tr>\n",
              "    <tr>\n",
              "      <th>WindDir3pm</th>\n",
              "      <td>0.002992</td>\n",
              "    </tr>\n",
              "    <tr>\n",
              "      <th>WindSpeed9am</th>\n",
              "      <td>0.083904</td>\n",
              "    </tr>\n",
              "    <tr>\n",
              "      <th>WindSpeed3pm</th>\n",
              "      <td>0.088862</td>\n",
              "    </tr>\n",
              "    <tr>\n",
              "      <th>Humidity9am</th>\n",
              "      <td>0.271033</td>\n",
              "    </tr>\n",
              "    <tr>\n",
              "      <th>Humidity3pm</th>\n",
              "      <td>0.455358</td>\n",
              "    </tr>\n",
              "    <tr>\n",
              "      <th>Pressure9am</th>\n",
              "      <td>-0.254816</td>\n",
              "    </tr>\n",
              "    <tr>\n",
              "      <th>Pressure3pm</th>\n",
              "      <td>-0.230418</td>\n",
              "    </tr>\n",
              "    <tr>\n",
              "      <th>Cloud9am</th>\n",
              "      <td>0.323972</td>\n",
              "    </tr>\n",
              "    <tr>\n",
              "      <th>Cloud3pm</th>\n",
              "      <td>0.388574</td>\n",
              "    </tr>\n",
              "    <tr>\n",
              "      <th>Temp9am</th>\n",
              "      <td>-0.018179</td>\n",
              "    </tr>\n",
              "    <tr>\n",
              "      <th>Temp3pm</th>\n",
              "      <td>-0.183586</td>\n",
              "    </tr>\n",
              "    <tr>\n",
              "      <th>RainToday</th>\n",
              "      <td>0.309098</td>\n",
              "    </tr>\n",
              "    <tr>\n",
              "      <th>RainTomorrow</th>\n",
              "      <td>1.000000</td>\n",
              "    </tr>\n",
              "  </tbody>\n",
              "</table>\n",
              "</div>\n",
              "      <button class=\"colab-df-convert\" onclick=\"convertToInteractive('df-d003e60d-2a73-49b3-8297-4045bf8bec1d')\"\n",
              "              title=\"Convert this dataframe to an interactive table.\"\n",
              "              style=\"display:none;\">\n",
              "        \n",
              "  <svg xmlns=\"http://www.w3.org/2000/svg\" height=\"24px\"viewBox=\"0 0 24 24\"\n",
              "       width=\"24px\">\n",
              "    <path d=\"M0 0h24v24H0V0z\" fill=\"none\"/>\n",
              "    <path d=\"M18.56 5.44l.94 2.06.94-2.06 2.06-.94-2.06-.94-.94-2.06-.94 2.06-2.06.94zm-11 1L8.5 8.5l.94-2.06 2.06-.94-2.06-.94L8.5 2.5l-.94 2.06-2.06.94zm10 10l.94 2.06.94-2.06 2.06-.94-2.06-.94-.94-2.06-.94 2.06-2.06.94z\"/><path d=\"M17.41 7.96l-1.37-1.37c-.4-.4-.92-.59-1.43-.59-.52 0-1.04.2-1.43.59L10.3 9.45l-7.72 7.72c-.78.78-.78 2.05 0 2.83L4 21.41c.39.39.9.59 1.41.59.51 0 1.02-.2 1.41-.59l7.78-7.78 2.81-2.81c.8-.78.8-2.07 0-2.86zM5.41 20L4 18.59l7.72-7.72 1.47 1.35L5.41 20z\"/>\n",
              "  </svg>\n",
              "      </button>\n",
              "      \n",
              "  <style>\n",
              "    .colab-df-container {\n",
              "      display:flex;\n",
              "      flex-wrap:wrap;\n",
              "      gap: 12px;\n",
              "    }\n",
              "\n",
              "    .colab-df-convert {\n",
              "      background-color: #E8F0FE;\n",
              "      border: none;\n",
              "      border-radius: 50%;\n",
              "      cursor: pointer;\n",
              "      display: none;\n",
              "      fill: #1967D2;\n",
              "      height: 32px;\n",
              "      padding: 0 0 0 0;\n",
              "      width: 32px;\n",
              "    }\n",
              "\n",
              "    .colab-df-convert:hover {\n",
              "      background-color: #E2EBFA;\n",
              "      box-shadow: 0px 1px 2px rgba(60, 64, 67, 0.3), 0px 1px 3px 1px rgba(60, 64, 67, 0.15);\n",
              "      fill: #174EA6;\n",
              "    }\n",
              "\n",
              "    [theme=dark] .colab-df-convert {\n",
              "      background-color: #3B4455;\n",
              "      fill: #D2E3FC;\n",
              "    }\n",
              "\n",
              "    [theme=dark] .colab-df-convert:hover {\n",
              "      background-color: #434B5C;\n",
              "      box-shadow: 0px 1px 3px 1px rgba(0, 0, 0, 0.15);\n",
              "      filter: drop-shadow(0px 1px 2px rgba(0, 0, 0, 0.3));\n",
              "      fill: #FFFFFF;\n",
              "    }\n",
              "  </style>\n",
              "\n",
              "      <script>\n",
              "        const buttonEl =\n",
              "          document.querySelector('#df-d003e60d-2a73-49b3-8297-4045bf8bec1d button.colab-df-convert');\n",
              "        buttonEl.style.display =\n",
              "          google.colab.kernel.accessAllowed ? 'block' : 'none';\n",
              "\n",
              "        async function convertToInteractive(key) {\n",
              "          const element = document.querySelector('#df-d003e60d-2a73-49b3-8297-4045bf8bec1d');\n",
              "          const dataTable =\n",
              "            await google.colab.kernel.invokeFunction('convertToInteractive',\n",
              "                                                     [key], {});\n",
              "          if (!dataTable) return;\n",
              "\n",
              "          const docLinkHtml = 'Like what you see? Visit the ' +\n",
              "            '<a target=\"_blank\" href=https://colab.research.google.com/notebooks/data_table.ipynb>data table notebook</a>'\n",
              "            + ' to learn more about interactive tables.';\n",
              "          element.innerHTML = '';\n",
              "          dataTable['output_type'] = 'display_data';\n",
              "          await google.colab.output.renderOutput(dataTable, element);\n",
              "          const docLink = document.createElement('div');\n",
              "          docLink.innerHTML = docLinkHtml;\n",
              "          element.appendChild(docLink);\n",
              "        }\n",
              "      </script>\n",
              "    </div>\n",
              "  </div>\n",
              "  "
            ]
          },
          "metadata": {},
          "execution_count": 38
        }
      ]
    },
    {
      "cell_type": "code",
      "source": [
        "corr_coef_to_target = corr_coef_to_target.sort_values(by=['RainTomorrow'])"
      ],
      "metadata": {
        "id": "mmoSmRyZGJT3"
      },
      "execution_count": 39,
      "outputs": []
    },
    {
      "cell_type": "code",
      "source": [
        "corr_coef_to_target"
      ],
      "metadata": {
        "colab": {
          "base_uri": "https://localhost:8080/",
          "height": 739
        },
        "id": "-CDyRceTGOui",
        "outputId": "e95dc9e4-2965-4d81-d69e-d8b9c30a8fd1"
      },
      "execution_count": 40,
      "outputs": [
        {
          "output_type": "execute_result",
          "data": {
            "text/plain": [
              "               RainTomorrow\n",
              "Sunshine          -0.453407\n",
              "Pressure9am       -0.254816\n",
              "Pressure3pm       -0.230418\n",
              "Temp3pm           -0.183586\n",
              "MaxTemp           -0.147467\n",
              "Evaporation       -0.130002\n",
              "Location          -0.029835\n",
              "Temp9am           -0.018179\n",
              "WindDir9am        -0.016293\n",
              "WindDir3pm         0.002992\n",
              "WindGustDir        0.004890\n",
              "WindSpeed9am       0.083904\n",
              "MinTemp            0.087428\n",
              "WindSpeed3pm       0.088862\n",
              "WindGustSpeed      0.233158\n",
              "Rainfall           0.254342\n",
              "Humidity9am        0.271033\n",
              "RainToday          0.309098\n",
              "Cloud9am           0.323972\n",
              "Cloud3pm           0.388574\n",
              "Humidity3pm        0.455358\n",
              "RainTomorrow       1.000000"
            ],
            "text/html": [
              "\n",
              "  <div id=\"df-d8df2250-a1f0-44b3-b64c-0e28c658ca1e\">\n",
              "    <div class=\"colab-df-container\">\n",
              "      <div>\n",
              "<style scoped>\n",
              "    .dataframe tbody tr th:only-of-type {\n",
              "        vertical-align: middle;\n",
              "    }\n",
              "\n",
              "    .dataframe tbody tr th {\n",
              "        vertical-align: top;\n",
              "    }\n",
              "\n",
              "    .dataframe thead th {\n",
              "        text-align: right;\n",
              "    }\n",
              "</style>\n",
              "<table border=\"1\" class=\"dataframe\">\n",
              "  <thead>\n",
              "    <tr style=\"text-align: right;\">\n",
              "      <th></th>\n",
              "      <th>RainTomorrow</th>\n",
              "    </tr>\n",
              "  </thead>\n",
              "  <tbody>\n",
              "    <tr>\n",
              "      <th>Sunshine</th>\n",
              "      <td>-0.453407</td>\n",
              "    </tr>\n",
              "    <tr>\n",
              "      <th>Pressure9am</th>\n",
              "      <td>-0.254816</td>\n",
              "    </tr>\n",
              "    <tr>\n",
              "      <th>Pressure3pm</th>\n",
              "      <td>-0.230418</td>\n",
              "    </tr>\n",
              "    <tr>\n",
              "      <th>Temp3pm</th>\n",
              "      <td>-0.183586</td>\n",
              "    </tr>\n",
              "    <tr>\n",
              "      <th>MaxTemp</th>\n",
              "      <td>-0.147467</td>\n",
              "    </tr>\n",
              "    <tr>\n",
              "      <th>Evaporation</th>\n",
              "      <td>-0.130002</td>\n",
              "    </tr>\n",
              "    <tr>\n",
              "      <th>Location</th>\n",
              "      <td>-0.029835</td>\n",
              "    </tr>\n",
              "    <tr>\n",
              "      <th>Temp9am</th>\n",
              "      <td>-0.018179</td>\n",
              "    </tr>\n",
              "    <tr>\n",
              "      <th>WindDir9am</th>\n",
              "      <td>-0.016293</td>\n",
              "    </tr>\n",
              "    <tr>\n",
              "      <th>WindDir3pm</th>\n",
              "      <td>0.002992</td>\n",
              "    </tr>\n",
              "    <tr>\n",
              "      <th>WindGustDir</th>\n",
              "      <td>0.004890</td>\n",
              "    </tr>\n",
              "    <tr>\n",
              "      <th>WindSpeed9am</th>\n",
              "      <td>0.083904</td>\n",
              "    </tr>\n",
              "    <tr>\n",
              "      <th>MinTemp</th>\n",
              "      <td>0.087428</td>\n",
              "    </tr>\n",
              "    <tr>\n",
              "      <th>WindSpeed3pm</th>\n",
              "      <td>0.088862</td>\n",
              "    </tr>\n",
              "    <tr>\n",
              "      <th>WindGustSpeed</th>\n",
              "      <td>0.233158</td>\n",
              "    </tr>\n",
              "    <tr>\n",
              "      <th>Rainfall</th>\n",
              "      <td>0.254342</td>\n",
              "    </tr>\n",
              "    <tr>\n",
              "      <th>Humidity9am</th>\n",
              "      <td>0.271033</td>\n",
              "    </tr>\n",
              "    <tr>\n",
              "      <th>RainToday</th>\n",
              "      <td>0.309098</td>\n",
              "    </tr>\n",
              "    <tr>\n",
              "      <th>Cloud9am</th>\n",
              "      <td>0.323972</td>\n",
              "    </tr>\n",
              "    <tr>\n",
              "      <th>Cloud3pm</th>\n",
              "      <td>0.388574</td>\n",
              "    </tr>\n",
              "    <tr>\n",
              "      <th>Humidity3pm</th>\n",
              "      <td>0.455358</td>\n",
              "    </tr>\n",
              "    <tr>\n",
              "      <th>RainTomorrow</th>\n",
              "      <td>1.000000</td>\n",
              "    </tr>\n",
              "  </tbody>\n",
              "</table>\n",
              "</div>\n",
              "      <button class=\"colab-df-convert\" onclick=\"convertToInteractive('df-d8df2250-a1f0-44b3-b64c-0e28c658ca1e')\"\n",
              "              title=\"Convert this dataframe to an interactive table.\"\n",
              "              style=\"display:none;\">\n",
              "        \n",
              "  <svg xmlns=\"http://www.w3.org/2000/svg\" height=\"24px\"viewBox=\"0 0 24 24\"\n",
              "       width=\"24px\">\n",
              "    <path d=\"M0 0h24v24H0V0z\" fill=\"none\"/>\n",
              "    <path d=\"M18.56 5.44l.94 2.06.94-2.06 2.06-.94-2.06-.94-.94-2.06-.94 2.06-2.06.94zm-11 1L8.5 8.5l.94-2.06 2.06-.94-2.06-.94L8.5 2.5l-.94 2.06-2.06.94zm10 10l.94 2.06.94-2.06 2.06-.94-2.06-.94-.94-2.06-.94 2.06-2.06.94z\"/><path d=\"M17.41 7.96l-1.37-1.37c-.4-.4-.92-.59-1.43-.59-.52 0-1.04.2-1.43.59L10.3 9.45l-7.72 7.72c-.78.78-.78 2.05 0 2.83L4 21.41c.39.39.9.59 1.41.59.51 0 1.02-.2 1.41-.59l7.78-7.78 2.81-2.81c.8-.78.8-2.07 0-2.86zM5.41 20L4 18.59l7.72-7.72 1.47 1.35L5.41 20z\"/>\n",
              "  </svg>\n",
              "      </button>\n",
              "      \n",
              "  <style>\n",
              "    .colab-df-container {\n",
              "      display:flex;\n",
              "      flex-wrap:wrap;\n",
              "      gap: 12px;\n",
              "    }\n",
              "\n",
              "    .colab-df-convert {\n",
              "      background-color: #E8F0FE;\n",
              "      border: none;\n",
              "      border-radius: 50%;\n",
              "      cursor: pointer;\n",
              "      display: none;\n",
              "      fill: #1967D2;\n",
              "      height: 32px;\n",
              "      padding: 0 0 0 0;\n",
              "      width: 32px;\n",
              "    }\n",
              "\n",
              "    .colab-df-convert:hover {\n",
              "      background-color: #E2EBFA;\n",
              "      box-shadow: 0px 1px 2px rgba(60, 64, 67, 0.3), 0px 1px 3px 1px rgba(60, 64, 67, 0.15);\n",
              "      fill: #174EA6;\n",
              "    }\n",
              "\n",
              "    [theme=dark] .colab-df-convert {\n",
              "      background-color: #3B4455;\n",
              "      fill: #D2E3FC;\n",
              "    }\n",
              "\n",
              "    [theme=dark] .colab-df-convert:hover {\n",
              "      background-color: #434B5C;\n",
              "      box-shadow: 0px 1px 3px 1px rgba(0, 0, 0, 0.15);\n",
              "      filter: drop-shadow(0px 1px 2px rgba(0, 0, 0, 0.3));\n",
              "      fill: #FFFFFF;\n",
              "    }\n",
              "  </style>\n",
              "\n",
              "      <script>\n",
              "        const buttonEl =\n",
              "          document.querySelector('#df-d8df2250-a1f0-44b3-b64c-0e28c658ca1e button.colab-df-convert');\n",
              "        buttonEl.style.display =\n",
              "          google.colab.kernel.accessAllowed ? 'block' : 'none';\n",
              "\n",
              "        async function convertToInteractive(key) {\n",
              "          const element = document.querySelector('#df-d8df2250-a1f0-44b3-b64c-0e28c658ca1e');\n",
              "          const dataTable =\n",
              "            await google.colab.kernel.invokeFunction('convertToInteractive',\n",
              "                                                     [key], {});\n",
              "          if (!dataTable) return;\n",
              "\n",
              "          const docLinkHtml = 'Like what you see? Visit the ' +\n",
              "            '<a target=\"_blank\" href=https://colab.research.google.com/notebooks/data_table.ipynb>data table notebook</a>'\n",
              "            + ' to learn more about interactive tables.';\n",
              "          element.innerHTML = '';\n",
              "          dataTable['output_type'] = 'display_data';\n",
              "          await google.colab.output.renderOutput(dataTable, element);\n",
              "          const docLink = document.createElement('div');\n",
              "          docLink.innerHTML = docLinkHtml;\n",
              "          element.appendChild(docLink);\n",
              "        }\n",
              "      </script>\n",
              "    </div>\n",
              "  </div>\n",
              "  "
            ]
          },
          "metadata": {},
          "execution_count": 40
        }
      ]
    },
    {
      "cell_type": "markdown",
      "source": [
        "### Visualizations"
      ],
      "metadata": {
        "id": "_QUG88UhFkLP"
      }
    },
    {
      "cell_type": "code",
      "source": [
        "def plot_distribution(dataframe, column, ax, bins_=50):\n",
        "    \"\"\"\n",
        "    Plot variable distirbution in a stacked histogram\n",
        "    \"\"\"\n",
        "    # Create a temporal dataframe with the data to be plot\n",
        "    temp = pd.DataFrame({\"No\": dataframe[dataframe[\"RainTomorrow\"]==0][column],\n",
        "    \"Yes\":dataframe[dataframe[\"RainTomorrow\"]==1][column]})\n",
        "    # Plot the histogram\n",
        "    temp[[\"No\",\"Yes\"]].plot(kind='hist', bins=bins_, ax=ax, stacked=True)\n",
        "    # X-axis label\n",
        "    ax.set_xlabel(column)\n",
        "    # Change the x-axis to plain style\n",
        "    ax.ticklabel_format(style='plain', axis='x')"
      ],
      "metadata": {
        "id": "LC_3FQ0EFl1C"
      },
      "execution_count": 43,
      "outputs": []
    },
    {
      "cell_type": "markdown",
      "source": [
        "### Top 3 Strong Negative Correlated Features and RainTomorrow"
      ],
      "metadata": {
        "id": "ALGiBvAPGbLl"
      }
    },
    {
      "cell_type": "code",
      "source": [
        "strong_negatives = weather_df_na_dropped[['Sunshine', 'Pressure9am', 'Pressure3pm','RainTomorrow']]\n"
      ],
      "metadata": {
        "id": "khSCloEFGfWd"
      },
      "execution_count": 44,
      "outputs": []
    },
    {
      "cell_type": "code",
      "source": [
        "fig, axs = plt.subplots(nrows=4, figsize=(18, 25))\n",
        "\n",
        "plot_distribution(strong_negatives, 'Sunshine', axs[0])\n",
        "plot_distribution(strong_negatives, 'Pressure9am', axs[1])\n",
        "plot_distribution(strong_negatives, 'Pressure3pm', axs[2])"
      ],
      "metadata": {
        "colab": {
          "base_uri": "https://localhost:8080/",
          "height": 1000
        },
        "id": "YjtCfdywHiu7",
        "outputId": "350869eb-f77c-46ec-cd20-d618d8b0a468"
      },
      "execution_count": 45,
      "outputs": [
        {
          "output_type": "display_data",
          "data": {
            "text/plain": [
              "<Figure size 1296x1800 with 4 Axes>"
            ],
            "image/png": "[encoded data removed]"
          },
          "metadata": {}
        }
      ]
    },
    {
      "cell_type": "markdown",
      "source": [
        "Dari dataset, bisa dilihat bahwa observasi-observasi dengan nilai variable Sunshine = 0 memiliki potensi besar terjadinya hujan di keesokan harinya.\n",
        "\n"
      ],
      "metadata": {
        "id": "21orsekBV1oN"
      }
    },
    {
      "cell_type": "markdown",
      "source": [
        "### Top 3 Strong Positive Correlated Features and RainTomorrow"
      ],
      "metadata": {
        "id": "Sfv4lbO_IF32"
      }
    },
    {
      "cell_type": "code",
      "source": [
        "strong_positives = weather_df_na_dropped[['Humidity3pm', 'Cloud3pm', 'Cloud9am','RainTomorrow']]\n"
      ],
      "metadata": {
        "id": "ZRnQ-tqhIHYe"
      },
      "execution_count": 47,
      "outputs": []
    },
    {
      "cell_type": "code",
      "source": [
        "fig, axs = plt.subplots(nrows=4, figsize=(18, 25))\n",
        "\n",
        "plot_distribution(strong_positives, 'Humidity3pm', axs[0])\n",
        "plot_distribution(strong_positives, 'Cloud3pm', axs[1])\n",
        "plot_distribution(strong_positives, 'Cloud9am', axs[2])"
      ],
      "metadata": {
        "colab": {
          "base_uri": "https://localhost:8080/",
          "height": 922
        },
        "id": "3SSE5WTWITJw",
        "outputId": "aad4a9e6-8266-43e1-de31-466389581d23"
      },
      "execution_count": 48,
      "outputs": [
        {
          "output_type": "display_data",
          "data": {
            "text/plain": [
              "<Figure size 1296x1800 with 4 Axes>"
            ],
            "image/png": "[encoded data removed]"
          },
          "metadata": {}
        }
      ]
    },
    {
      "cell_type": "markdown",
      "source": [
        "Berdasarkan data, observasi dengan nilai humidity di pukul 3pm yang tinggi memiliki potensi besar terjadinya hujan dikeesokan harinya.\n",
        "\n",
        "Begitu juga dengan adanya cloud di pukul 3pm dan 9am, semakin tinggi nilai dari kedua variabel ini, semakin tinggi potensi terjadinya hujan di keesokan hari."
      ],
      "metadata": {
        "id": "6joEbYmmWgjN"
      }
    },
    {
      "cell_type": "markdown",
      "source": [
        "## Modeling - ANN"
      ],
      "metadata": {
        "id": "JzKm25jLIl1V"
      }
    },
    {
      "cell_type": "code",
      "source": [
        "from keras.models import Model, Sequential\n",
        "from keras.layers import Input, Dense, Dropout, BatchNormalization"
      ],
      "metadata": {
        "id": "BemuvwK8In4o"
      },
      "execution_count": 49,
      "outputs": []
    },
    {
      "cell_type": "code",
      "source": [
        "len(features)"
      ],
      "metadata": {
        "colab": {
          "base_uri": "https://localhost:8080/"
        },
        "id": "ufxNtO-NLRku",
        "outputId": "7fe210f2-8320-4b72-93a3-9558e523cb78"
      },
      "execution_count": 61,
      "outputs": [
        {
          "output_type": "execute_result",
          "data": {
            "text/plain": [
              "21"
            ]
          },
          "metadata": {},
          "execution_count": 61
        }
      ]
    },
    {
      "cell_type": "markdown",
      "source": [
        "### Model 1\n",
        "Task: Binary Classification\n",
        "\n",
        "Arsitektur ANN:\n",
        "1. 21 unit input\n",
        "2. 2 hidden layers: (a) h1 => 16 unit dan (b) h2 => 32 unit dengan fungsi aktivasi 'relu'\n",
        "3. 1 output unit dengan fungsi aktivasi 'sigmoid'\n",
        "\n",
        "Loss Function:\n",
        "Binary Crossentropy\n",
        "\n",
        "Optimizer:\n",
        "Adam\n",
        "\n",
        "Train-set:\n",
        "Not resampled"
      ],
      "metadata": {
        "id": "Ana1NkVtLHlR"
      }
    },
    {
      "cell_type": "code",
      "source": [
        "model1 = Sequential()\n",
        "model1.add(Dense(16, input_shape=(len(features),), activation='relu'))\n",
        "model1.add(Dense(32, activation='relu'))\n",
        "model1.add(Dense(1, activation='sigmoid'))\n",
        "\n",
        "model1.compile(loss='binary_crossentropy', optimizer='adam', metrics=['accuracy'])"
      ],
      "metadata": {
        "id": "pjZZ65qyKNhH"
      },
      "execution_count": 54,
      "outputs": []
    },
    {
      "cell_type": "code",
      "source": [
        "# Summary Model\n",
        "print(model1.summary())"
      ],
      "metadata": {
        "colab": {
          "base_uri": "https://localhost:8080/"
        },
        "id": "HR5NKkjDL4is",
        "outputId": "3e71fbed-a4e4-4a73-a0f6-cd74aab77882"
      },
      "execution_count": 62,
      "outputs": [
        {
          "output_type": "stream",
          "name": "stdout",
          "text": [
            "Model: \"sequential\"\n",
            "_________________________________________________________________\n",
            " Layer (type)                Output Shape              Param #   \n",
            "=================================================================\n",
            " dense_3 (Dense)             (None, 16)                352       \n",
            "                                                                 \n",
            " dense_4 (Dense)             (None, 32)                544       \n",
            "                                                                 \n",
            " dense_5 (Dense)             (None, 1)                 33        \n",
            "                                                                 \n",
            "=================================================================\n",
            "Total params: 929\n",
            "Trainable params: 929\n",
            "Non-trainable params: 0\n",
            "_________________________________________________________________\n",
            "None\n"
          ]
        }
      ]
    },
    {
      "cell_type": "code",
      "source": [
        "history1 = model1.fit(x=X_train, y=y_train, \n",
        "                      validation_data=(X_val, y_val),\n",
        "                      epochs=100, batch_size=1024, verbose=1)"
      ],
      "metadata": {
        "colab": {
          "base_uri": "https://localhost:8080/"
        },
        "id": "UzdUKJUkJ83c",
        "outputId": "45dc90ad-00e8-4906-e3ca-54dab8309ad5"
      },
      "execution_count": 56,
      "outputs": [
        {
          "output_type": "stream",
          "name": "stdout",
          "text": [
            "Epoch 1/100\n",
            "40/40 [==============================] - 1s 9ms/step - loss: 31.0006 - accuracy: 0.5427 - val_loss: 6.5397 - val_accuracy: 0.7791\n",
            "Epoch 2/100\n",
            "40/40 [==============================] - 0s 4ms/step - loss: 1.8446 - accuracy: 0.6901 - val_loss: 0.7496 - val_accuracy: 0.7625\n",
            "Epoch 3/100\n",
            "40/40 [==============================] - 0s 3ms/step - loss: 0.6556 - accuracy: 0.7476 - val_loss: 0.5974 - val_accuracy: 0.7641\n",
            "Epoch 4/100\n",
            "40/40 [==============================] - 0s 3ms/step - loss: 0.5568 - accuracy: 0.7754 - val_loss: 0.5258 - val_accuracy: 0.7802\n",
            "Epoch 5/100\n",
            "40/40 [==============================] - 0s 3ms/step - loss: 0.5021 - accuracy: 0.7942 - val_loss: 0.4834 - val_accuracy: 0.7913\n",
            "Epoch 6/100\n",
            "40/40 [==============================] - 0s 4ms/step - loss: 0.4681 - accuracy: 0.8081 - val_loss: 0.4560 - val_accuracy: 0.7997\n",
            "Epoch 7/100\n",
            "40/40 [==============================] - 0s 4ms/step - loss: 0.4466 - accuracy: 0.8171 - val_loss: 0.4332 - val_accuracy: 0.8135\n",
            "Epoch 8/100\n",
            "40/40 [==============================] - 0s 4ms/step - loss: 0.4281 - accuracy: 0.8249 - val_loss: 0.4177 - val_accuracy: 0.8250\n",
            "Epoch 9/100\n",
            "40/40 [==============================] - 0s 3ms/step - loss: 0.4096 - accuracy: 0.8314 - val_loss: 0.3928 - val_accuracy: 0.8332\n",
            "Epoch 10/100\n",
            "40/40 [==============================] - 0s 4ms/step - loss: 0.3945 - accuracy: 0.8348 - val_loss: 0.3827 - val_accuracy: 0.8376\n",
            "Epoch 11/100\n",
            "40/40 [==============================] - 0s 4ms/step - loss: 0.3872 - accuracy: 0.8376 - val_loss: 0.3788 - val_accuracy: 0.8394\n",
            "Epoch 12/100\n",
            "40/40 [==============================] - 0s 4ms/step - loss: 0.3834 - accuracy: 0.8386 - val_loss: 0.3760 - val_accuracy: 0.8425\n",
            "Epoch 13/100\n",
            "40/40 [==============================] - 0s 3ms/step - loss: 0.3797 - accuracy: 0.8401 - val_loss: 0.3737 - val_accuracy: 0.8445\n",
            "Epoch 14/100\n",
            "40/40 [==============================] - 0s 3ms/step - loss: 0.3773 - accuracy: 0.8408 - val_loss: 0.3686 - val_accuracy: 0.8423\n",
            "Epoch 15/100\n",
            "40/40 [==============================] - 0s 3ms/step - loss: 0.3740 - accuracy: 0.8417 - val_loss: 0.3660 - val_accuracy: 0.8445\n",
            "Epoch 16/100\n",
            "40/40 [==============================] - 0s 3ms/step - loss: 0.3708 - accuracy: 0.8443 - val_loss: 0.3638 - val_accuracy: 0.8469\n",
            "Epoch 17/100\n",
            "40/40 [==============================] - 0s 4ms/step - loss: 0.3693 - accuracy: 0.8439 - val_loss: 0.3657 - val_accuracy: 0.8427\n",
            "Epoch 18/100\n",
            "40/40 [==============================] - 0s 4ms/step - loss: 0.3660 - accuracy: 0.8444 - val_loss: 0.3609 - val_accuracy: 0.8463\n",
            "Epoch 19/100\n",
            "40/40 [==============================] - 0s 4ms/step - loss: 0.3659 - accuracy: 0.8455 - val_loss: 0.3586 - val_accuracy: 0.8471\n",
            "Epoch 20/100\n",
            "40/40 [==============================] - 0s 4ms/step - loss: 0.3627 - accuracy: 0.8463 - val_loss: 0.3561 - val_accuracy: 0.8467\n",
            "Epoch 21/100\n",
            "40/40 [==============================] - 0s 4ms/step - loss: 0.3612 - accuracy: 0.8473 - val_loss: 0.3562 - val_accuracy: 0.8469\n",
            "Epoch 22/100\n",
            "40/40 [==============================] - 0s 4ms/step - loss: 0.3583 - accuracy: 0.8477 - val_loss: 0.3543 - val_accuracy: 0.8476\n",
            "Epoch 23/100\n",
            "40/40 [==============================] - 0s 4ms/step - loss: 0.3580 - accuracy: 0.8476 - val_loss: 0.3525 - val_accuracy: 0.8471\n",
            "Epoch 24/100\n",
            "40/40 [==============================] - 0s 4ms/step - loss: 0.3555 - accuracy: 0.8484 - val_loss: 0.3523 - val_accuracy: 0.8476\n",
            "Epoch 25/100\n",
            "40/40 [==============================] - 0s 4ms/step - loss: 0.3550 - accuracy: 0.8489 - val_loss: 0.3531 - val_accuracy: 0.8456\n",
            "Epoch 26/100\n",
            "40/40 [==============================] - 0s 4ms/step - loss: 0.3544 - accuracy: 0.8488 - val_loss: 0.3532 - val_accuracy: 0.8469\n",
            "Epoch 27/100\n",
            "40/40 [==============================] - 0s 4ms/step - loss: 0.3560 - accuracy: 0.8471 - val_loss: 0.3514 - val_accuracy: 0.8471\n",
            "Epoch 28/100\n",
            "40/40 [==============================] - 0s 4ms/step - loss: 0.3533 - accuracy: 0.8489 - val_loss: 0.3498 - val_accuracy: 0.8487\n",
            "Epoch 29/100\n",
            "40/40 [==============================] - 0s 3ms/step - loss: 0.3536 - accuracy: 0.8482 - val_loss: 0.3519 - val_accuracy: 0.8474\n",
            "Epoch 30/100\n",
            "40/40 [==============================] - 0s 4ms/step - loss: 0.3581 - accuracy: 0.8468 - val_loss: 0.3494 - val_accuracy: 0.8496\n",
            "Epoch 31/100\n",
            "40/40 [==============================] - 0s 4ms/step - loss: 0.3537 - accuracy: 0.8485 - val_loss: 0.3551 - val_accuracy: 0.8465\n",
            "Epoch 32/100\n",
            "40/40 [==============================] - 0s 3ms/step - loss: 0.3531 - accuracy: 0.8483 - val_loss: 0.3483 - val_accuracy: 0.8505\n",
            "Epoch 33/100\n",
            "40/40 [==============================] - 0s 3ms/step - loss: 0.3494 - accuracy: 0.8492 - val_loss: 0.3476 - val_accuracy: 0.8487\n",
            "Epoch 34/100\n",
            "40/40 [==============================] - 0s 4ms/step - loss: 0.3514 - accuracy: 0.8489 - val_loss: 0.3491 - val_accuracy: 0.8491\n",
            "Epoch 35/100\n",
            "40/40 [==============================] - 0s 4ms/step - loss: 0.3494 - accuracy: 0.8493 - val_loss: 0.3572 - val_accuracy: 0.8458\n",
            "Epoch 36/100\n",
            "40/40 [==============================] - 0s 3ms/step - loss: 0.3497 - accuracy: 0.8498 - val_loss: 0.3468 - val_accuracy: 0.8500\n",
            "Epoch 37/100\n",
            "40/40 [==============================] - 0s 3ms/step - loss: 0.3486 - accuracy: 0.8491 - val_loss: 0.3581 - val_accuracy: 0.8460\n",
            "Epoch 38/100\n",
            "40/40 [==============================] - 0s 4ms/step - loss: 0.3512 - accuracy: 0.8481 - val_loss: 0.3485 - val_accuracy: 0.8500\n",
            "Epoch 39/100\n",
            "40/40 [==============================] - 0s 3ms/step - loss: 0.3474 - accuracy: 0.8493 - val_loss: 0.3462 - val_accuracy: 0.8505\n",
            "Epoch 40/100\n",
            "40/40 [==============================] - 0s 3ms/step - loss: 0.3480 - accuracy: 0.8497 - val_loss: 0.3631 - val_accuracy: 0.8407\n",
            "Epoch 41/100\n",
            "40/40 [==============================] - 0s 4ms/step - loss: 0.3553 - accuracy: 0.8464 - val_loss: 0.3549 - val_accuracy: 0.8458\n",
            "Epoch 42/100\n",
            "40/40 [==============================] - 0s 3ms/step - loss: 0.3506 - accuracy: 0.8480 - val_loss: 0.3455 - val_accuracy: 0.8507\n",
            "Epoch 43/100\n",
            "40/40 [==============================] - 0s 4ms/step - loss: 0.3486 - accuracy: 0.8492 - val_loss: 0.3454 - val_accuracy: 0.8511\n",
            "Epoch 44/100\n",
            "40/40 [==============================] - 0s 3ms/step - loss: 0.3493 - accuracy: 0.8489 - val_loss: 0.3499 - val_accuracy: 0.8487\n",
            "Epoch 45/100\n",
            "40/40 [==============================] - 0s 3ms/step - loss: 0.3491 - accuracy: 0.8490 - val_loss: 0.3653 - val_accuracy: 0.8405\n",
            "Epoch 46/100\n",
            "40/40 [==============================] - 0s 4ms/step - loss: 0.3502 - accuracy: 0.8481 - val_loss: 0.3471 - val_accuracy: 0.8518\n",
            "Epoch 47/100\n",
            "40/40 [==============================] - 0s 3ms/step - loss: 0.3482 - accuracy: 0.8491 - val_loss: 0.3463 - val_accuracy: 0.8502\n",
            "Epoch 48/100\n",
            "40/40 [==============================] - 0s 4ms/step - loss: 0.3511 - accuracy: 0.8465 - val_loss: 0.3451 - val_accuracy: 0.8514\n",
            "Epoch 49/100\n",
            "40/40 [==============================] - 0s 4ms/step - loss: 0.3484 - accuracy: 0.8486 - val_loss: 0.3447 - val_accuracy: 0.8511\n",
            "Epoch 50/100\n",
            "40/40 [==============================] - 0s 4ms/step - loss: 0.3572 - accuracy: 0.8456 - val_loss: 0.3463 - val_accuracy: 0.8505\n",
            "Epoch 51/100\n",
            "40/40 [==============================] - 0s 3ms/step - loss: 0.3492 - accuracy: 0.8486 - val_loss: 0.3458 - val_accuracy: 0.8509\n",
            "Epoch 52/100\n",
            "40/40 [==============================] - 0s 4ms/step - loss: 0.3468 - accuracy: 0.8500 - val_loss: 0.3521 - val_accuracy: 0.8478\n",
            "Epoch 53/100\n",
            "40/40 [==============================] - 0s 4ms/step - loss: 0.3624 - accuracy: 0.8419 - val_loss: 0.3453 - val_accuracy: 0.8514\n",
            "Epoch 54/100\n",
            "40/40 [==============================] - 0s 3ms/step - loss: 0.3516 - accuracy: 0.8477 - val_loss: 0.3534 - val_accuracy: 0.8463\n",
            "Epoch 55/100\n",
            "40/40 [==============================] - 0s 4ms/step - loss: 0.3510 - accuracy: 0.8478 - val_loss: 0.3541 - val_accuracy: 0.8458\n",
            "Epoch 56/100\n",
            "40/40 [==============================] - 0s 4ms/step - loss: 0.3493 - accuracy: 0.8481 - val_loss: 0.3502 - val_accuracy: 0.8494\n",
            "Epoch 57/100\n",
            "40/40 [==============================] - 0s 3ms/step - loss: 0.3466 - accuracy: 0.8493 - val_loss: 0.3443 - val_accuracy: 0.8509\n",
            "Epoch 58/100\n",
            "40/40 [==============================] - 0s 3ms/step - loss: 0.3492 - accuracy: 0.8489 - val_loss: 0.3442 - val_accuracy: 0.8502\n",
            "Epoch 59/100\n",
            "40/40 [==============================] - 0s 3ms/step - loss: 0.3497 - accuracy: 0.8478 - val_loss: 0.3524 - val_accuracy: 0.8465\n",
            "Epoch 60/100\n",
            "40/40 [==============================] - 0s 3ms/step - loss: 0.3469 - accuracy: 0.8498 - val_loss: 0.3532 - val_accuracy: 0.8456\n",
            "Epoch 61/100\n",
            "40/40 [==============================] - 0s 3ms/step - loss: 0.3616 - accuracy: 0.8427 - val_loss: 0.3518 - val_accuracy: 0.8480\n",
            "Epoch 62/100\n",
            "40/40 [==============================] - 0s 4ms/step - loss: 0.3488 - accuracy: 0.8468 - val_loss: 0.3540 - val_accuracy: 0.8465\n",
            "Epoch 63/100\n",
            "40/40 [==============================] - 0s 4ms/step - loss: 0.3534 - accuracy: 0.8466 - val_loss: 0.3477 - val_accuracy: 0.8500\n",
            "Epoch 64/100\n",
            "40/40 [==============================] - 0s 4ms/step - loss: 0.3471 - accuracy: 0.8483 - val_loss: 0.3437 - val_accuracy: 0.8509\n",
            "Epoch 65/100\n",
            "40/40 [==============================] - 0s 4ms/step - loss: 0.3468 - accuracy: 0.8497 - val_loss: 0.3436 - val_accuracy: 0.8507\n",
            "Epoch 66/100\n",
            "40/40 [==============================] - 0s 3ms/step - loss: 0.3484 - accuracy: 0.8474 - val_loss: 0.3445 - val_accuracy: 0.8516\n",
            "Epoch 67/100\n",
            "40/40 [==============================] - 0s 3ms/step - loss: 0.3462 - accuracy: 0.8493 - val_loss: 0.3436 - val_accuracy: 0.8505\n",
            "Epoch 68/100\n",
            "40/40 [==============================] - 0s 3ms/step - loss: 0.3491 - accuracy: 0.8486 - val_loss: 0.3484 - val_accuracy: 0.8505\n",
            "Epoch 69/100\n",
            "40/40 [==============================] - 0s 4ms/step - loss: 0.3499 - accuracy: 0.8484 - val_loss: 0.3611 - val_accuracy: 0.8460\n",
            "Epoch 70/100\n",
            "40/40 [==============================] - 0s 3ms/step - loss: 0.3492 - accuracy: 0.8490 - val_loss: 0.3611 - val_accuracy: 0.8427\n",
            "Epoch 71/100\n",
            "40/40 [==============================] - 0s 3ms/step - loss: 0.3531 - accuracy: 0.8465 - val_loss: 0.3439 - val_accuracy: 0.8518\n",
            "Epoch 72/100\n",
            "40/40 [==============================] - 0s 4ms/step - loss: 0.3618 - accuracy: 0.8409 - val_loss: 0.3600 - val_accuracy: 0.8434\n",
            "Epoch 73/100\n",
            "40/40 [==============================] - 0s 3ms/step - loss: 0.3531 - accuracy: 0.8466 - val_loss: 0.3488 - val_accuracy: 0.8505\n",
            "Epoch 74/100\n",
            "40/40 [==============================] - 0s 3ms/step - loss: 0.3504 - accuracy: 0.8476 - val_loss: 0.3662 - val_accuracy: 0.8423\n",
            "Epoch 75/100\n",
            "40/40 [==============================] - 0s 4ms/step - loss: 0.3500 - accuracy: 0.8472 - val_loss: 0.3447 - val_accuracy: 0.8511\n",
            "Epoch 76/100\n",
            "40/40 [==============================] - 0s 3ms/step - loss: 0.3477 - accuracy: 0.8480 - val_loss: 0.3453 - val_accuracy: 0.8520\n",
            "Epoch 77/100\n",
            "40/40 [==============================] - 0s 4ms/step - loss: 0.3486 - accuracy: 0.8481 - val_loss: 0.3487 - val_accuracy: 0.8509\n",
            "Epoch 78/100\n",
            "40/40 [==============================] - 0s 4ms/step - loss: 0.3446 - accuracy: 0.8500 - val_loss: 0.3434 - val_accuracy: 0.8514\n",
            "Epoch 79/100\n",
            "40/40 [==============================] - 0s 4ms/step - loss: 0.3469 - accuracy: 0.8490 - val_loss: 0.3479 - val_accuracy: 0.8511\n",
            "Epoch 80/100\n",
            "40/40 [==============================] - 0s 4ms/step - loss: 0.3453 - accuracy: 0.8496 - val_loss: 0.3459 - val_accuracy: 0.8522\n",
            "Epoch 81/100\n",
            "40/40 [==============================] - 0s 3ms/step - loss: 0.3472 - accuracy: 0.8494 - val_loss: 0.3430 - val_accuracy: 0.8522\n",
            "Epoch 82/100\n",
            "40/40 [==============================] - 0s 3ms/step - loss: 0.3478 - accuracy: 0.8484 - val_loss: 0.3444 - val_accuracy: 0.8514\n",
            "Epoch 83/100\n",
            "40/40 [==============================] - 0s 4ms/step - loss: 0.3547 - accuracy: 0.8452 - val_loss: 0.3658 - val_accuracy: 0.8416\n",
            "Epoch 84/100\n",
            "40/40 [==============================] - 0s 4ms/step - loss: 0.3570 - accuracy: 0.8444 - val_loss: 0.3431 - val_accuracy: 0.8527\n",
            "Epoch 85/100\n",
            "40/40 [==============================] - 0s 4ms/step - loss: 0.3506 - accuracy: 0.8464 - val_loss: 0.3441 - val_accuracy: 0.8518\n",
            "Epoch 86/100\n",
            "40/40 [==============================] - 0s 4ms/step - loss: 0.3456 - accuracy: 0.8492 - val_loss: 0.3438 - val_accuracy: 0.8516\n",
            "Epoch 87/100\n",
            "40/40 [==============================] - 0s 5ms/step - loss: 0.3545 - accuracy: 0.8460 - val_loss: 0.3506 - val_accuracy: 0.8485\n",
            "Epoch 88/100\n",
            "40/40 [==============================] - 0s 5ms/step - loss: 0.3498 - accuracy: 0.8477 - val_loss: 0.3448 - val_accuracy: 0.8509\n",
            "Epoch 89/100\n",
            "40/40 [==============================] - 0s 3ms/step - loss: 0.3526 - accuracy: 0.8473 - val_loss: 0.3473 - val_accuracy: 0.8518\n",
            "Epoch 90/100\n",
            "40/40 [==============================] - 0s 3ms/step - loss: 0.3484 - accuracy: 0.8484 - val_loss: 0.3437 - val_accuracy: 0.8514\n",
            "Epoch 91/100\n",
            "40/40 [==============================] - 0s 3ms/step - loss: 0.3484 - accuracy: 0.8485 - val_loss: 0.3528 - val_accuracy: 0.8467\n",
            "Epoch 92/100\n",
            "40/40 [==============================] - 0s 3ms/step - loss: 0.3632 - accuracy: 0.8427 - val_loss: 0.3459 - val_accuracy: 0.8514\n",
            "Epoch 93/100\n",
            "40/40 [==============================] - 0s 3ms/step - loss: 0.3485 - accuracy: 0.8491 - val_loss: 0.3653 - val_accuracy: 0.8425\n",
            "Epoch 94/100\n",
            "40/40 [==============================] - 0s 3ms/step - loss: 0.3502 - accuracy: 0.8470 - val_loss: 0.3448 - val_accuracy: 0.8518\n",
            "Epoch 95/100\n",
            "40/40 [==============================] - 0s 4ms/step - loss: 0.3472 - accuracy: 0.8480 - val_loss: 0.3436 - val_accuracy: 0.8520\n",
            "Epoch 96/100\n",
            "40/40 [==============================] - 0s 4ms/step - loss: 0.3482 - accuracy: 0.8480 - val_loss: 0.3436 - val_accuracy: 0.8516\n",
            "Epoch 97/100\n",
            "40/40 [==============================] - 0s 4ms/step - loss: 0.3458 - accuracy: 0.8494 - val_loss: 0.3446 - val_accuracy: 0.8520\n",
            "Epoch 98/100\n",
            "40/40 [==============================] - 0s 3ms/step - loss: 0.3487 - accuracy: 0.8484 - val_loss: 0.3495 - val_accuracy: 0.8491\n",
            "Epoch 99/100\n",
            "40/40 [==============================] - 0s 3ms/step - loss: 0.3467 - accuracy: 0.8487 - val_loss: 0.3546 - val_accuracy: 0.8478\n",
            "Epoch 100/100\n",
            "40/40 [==============================] - 0s 3ms/step - loss: 0.3493 - accuracy: 0.8473 - val_loss: 0.3610 - val_accuracy: 0.8429\n"
          ]
        }
      ]
    },
    {
      "cell_type": "code",
      "source": [
        "predictions1 = model1.predict(X_test)"
      ],
      "metadata": {
        "colab": {
          "base_uri": "https://localhost:8080/"
        },
        "id": "RVYezOSVKl5V",
        "outputId": "c4af9381-9105-43fb-9f7c-c20ea3b483f3"
      },
      "execution_count": 57,
      "outputs": [
        {
          "output_type": "stream",
          "name": "stdout",
          "text": [
            "353/353 [==============================] - 1s 2ms/step\n"
          ]
        }
      ]
    },
    {
      "cell_type": "markdown",
      "source": [
        "#### Evaluation: model1"
      ],
      "metadata": {
        "id": "5ebkToFsKz6p"
      }
    },
    {
      "cell_type": "code",
      "source": [
        "from sklearn.metrics import classification_report"
      ],
      "metadata": {
        "id": "xCTn5ivAK36_"
      },
      "execution_count": 59,
      "outputs": []
    },
    {
      "cell_type": "code",
      "source": [
        "from sklearn.metrics import confusion_matrix\n",
        "import itertools"
      ],
      "metadata": {
        "id": "9RRW39XXUnqc"
      },
      "execution_count": 88,
      "outputs": []
    },
    {
      "cell_type": "code",
      "source": [
        "clf_r1 = classification_report(y_test, predictions1.round())\n",
        "print(clf_r1)"
      ],
      "metadata": {
        "colab": {
          "base_uri": "https://localhost:8080/"
        },
        "id": "n3di0rkuK56B",
        "outputId": "e35695ad-c320-438f-c471-833d6bfb9907"
      },
      "execution_count": 60,
      "outputs": [
        {
          "output_type": "stream",
          "name": "stdout",
          "text": [
            "              precision    recall  f1-score   support\n",
            "\n",
            "           0       0.86      0.97      0.91      8854\n",
            "           1       0.81      0.40      0.54      2430\n",
            "\n",
            "    accuracy                           0.85     11284\n",
            "   macro avg       0.83      0.69      0.72     11284\n",
            "weighted avg       0.85      0.85      0.83     11284\n",
            "\n"
          ]
        }
      ]
    },
    {
      "cell_type": "code",
      "source": [
        "def plot_confusion_matrix(cm, classes,\n",
        "                          normalize=False,\n",
        "                          title='Confusion matrix',\n",
        "                          cmap=plt.cm.Blues):\n",
        "    \"\"\"\n",
        "    This function prints and plots the confusion matrix.\n",
        "    Normalization can be applied by setting `normalize=True`.\n",
        "    \"\"\"\n",
        "    if normalize:\n",
        "        cm = cm.astype('float') / cm.sum(axis=1)[:, np.newaxis]\n",
        "        print(\"Normalized confusion matrix\")\n",
        "    else:\n",
        "        print('Confusion matrix, without normalization')\n",
        "\n",
        "    print(cm)\n",
        "\n",
        "    plt.imshow(cm, interpolation='nearest', cmap=cmap)\n",
        "    plt.title(title)\n",
        "    plt.colorbar()\n",
        "    tick_marks = np.arange(len(classes))\n",
        "    plt.xticks(tick_marks, classes, rotation=45)\n",
        "    plt.yticks(tick_marks, classes)\n",
        "\n",
        "    fmt = '.2f' if normalize else 'd'\n",
        "    thresh = cm.max() / 2.\n",
        "    for i, j in itertools.product(range(cm.shape[0]), range(cm.shape[1])):\n",
        "        plt.text(j, i, format(cm[i, j], fmt),\n",
        "                 horizontalalignment=\"center\",\n",
        "                 color=\"white\" if cm[i, j] > thresh else \"black\")\n",
        "\n",
        "    plt.tight_layout()\n",
        "    plt.ylabel('True label')\n",
        "    plt.xlabel('Predicted label')"
      ],
      "metadata": {
        "id": "qNb6pkQ5VKuF"
      },
      "execution_count": 89,
      "outputs": []
    },
    {
      "cell_type": "code",
      "source": [
        "# Compute confusion matrix\n",
        "cnf_matrix_1 = confusion_matrix(y_test, predictions1.round(), labels=[0,1])\n",
        "np.set_printoptions(precision=2)\n",
        "\n",
        "\n",
        "# Plot non-normalized confusion matrix\n",
        "plt.figure()\n",
        "plot_confusion_matrix(cnf_matrix_1, classes=['No=0','Yes=1'],normalize= False,  title='Confusion matrix')"
      ],
      "metadata": {
        "colab": {
          "base_uri": "https://localhost:8080/",
          "height": 362
        },
        "id": "9H2X-Qq1Uhcf",
        "outputId": "8369878b-1460-4f7e-d02c-c8a7a91519ac"
      },
      "execution_count": 90,
      "outputs": [
        {
          "output_type": "stream",
          "name": "stdout",
          "text": [
            "Confusion matrix, without normalization\n",
            "[[8619  235]\n",
            " [1453  977]]\n"
          ]
        },
        {
          "output_type": "display_data",
          "data": {
            "text/plain": [
              "<Figure size 432x288 with 2 Axes>"
            ],
            "image/png": "[encoded data removed]"
          },
          "metadata": {}
        }
      ]
    },
    {
      "cell_type": "markdown",
      "source": [
        "### Model 2\n",
        "Task: Binary Classification\n",
        "\n",
        "Arsitektur ANN:\n",
        "1. 10 unit input (Top 5 strong positive correlated features and Top 5 strong negative correlated features)\n",
        "2. 2 hidden layers: (a) h1 => 16 unit dan (b) h2 => 32 unit dengan fungsi aktivasi 'relu'\n",
        "3. 1 output unit dengan fungsi aktivasi 'sigmoid'\n",
        "\n",
        "Loss Function:\n",
        "Binary Crossentropy\n",
        "\n",
        "Optimizer:\n",
        "Adam\n",
        "\n",
        "Train-set:\n",
        "SMOTE oversampled with selected features (Top 5 strong positive correlated features and Top 5 strong negative correlated features)"
      ],
      "metadata": {
        "id": "VoA-IMJiMKaJ"
      }
    },
    {
      "cell_type": "code",
      "source": [
        "features_sc = ['Sunshine', 'Pressure9am', 'Pressure3pm', 'Temp3pm', 'MaxTemp',\n",
        "               'Humidity3pm', 'Cloud3pm', 'Cloud9am', 'RainToday', 'Humidity9am']"
      ],
      "metadata": {
        "id": "ANO1f6r3MXNJ"
      },
      "execution_count": 63,
      "outputs": []
    },
    {
      "cell_type": "code",
      "source": [
        "model2 = Sequential()\n",
        "model2.add(Dense(16, input_shape=(len(features_sc),), activation='relu'))\n",
        "model2.add(Dense(32, activation='relu'))\n",
        "model2.add(Dense(1, activation='sigmoid'))\n",
        "\n",
        "model2.compile(loss='binary_crossentropy', optimizer='adam', metrics=['accuracy'])"
      ],
      "metadata": {
        "id": "nt5ZrkwsMxvi"
      },
      "execution_count": 64,
      "outputs": []
    },
    {
      "cell_type": "code",
      "source": [
        "# The data\n",
        "X_2 = weather_df_na_dropped[features_sc].values\n",
        "y_2 = weather_df_na_dropped[target].values.flatten()"
      ],
      "metadata": {
        "id": "pbMtmuNCM6RP"
      },
      "execution_count": 65,
      "outputs": []
    },
    {
      "cell_type": "code",
      "source": [
        "X_train_sc, X_test_sc, y_train_sc, y_test_sc = train_test_split(X_2, y_2, test_size=0.2, random_state=0)\n",
        "X_train_sc, X_val_sc, y_train_sc, y_val_sc = train_test_split(X_train_sc, y_train_sc, test_size=0.1, random_state=0)"
      ],
      "metadata": {
        "id": "ncRZ8fxmNY0m"
      },
      "execution_count": 68,
      "outputs": []
    },
    {
      "cell_type": "code",
      "source": [
        "smote2 = SMOTE()\n",
        "X_train_sc_smote, y_train_sc_smote = smote.fit_resample(X_train_sc, y_train_sc)"
      ],
      "metadata": {
        "id": "zJFkocWVNe_V"
      },
      "execution_count": 69,
      "outputs": []
    },
    {
      "cell_type": "code",
      "source": [
        "# Modeling\n",
        "model2 = Sequential()\n",
        "model2.add(Dense(16, input_shape=(len(features_sc),), activation='relu'))\n",
        "model2.add(Dense(32, activation='relu'))\n",
        "model2.add(Dense(1, activation='sigmoid'))\n",
        "\n",
        "model2.compile(loss='binary_crossentropy', optimizer='adam', metrics=['accuracy'])"
      ],
      "metadata": {
        "id": "lKx5NpMPN4Cr"
      },
      "execution_count": 73,
      "outputs": []
    },
    {
      "cell_type": "code",
      "source": [
        "print(model2.summary())"
      ],
      "metadata": {
        "colab": {
          "base_uri": "https://localhost:8080/"
        },
        "id": "qGja0DJCN_kA",
        "outputId": "105bb845-9566-44c5-9544-953b3173f72b"
      },
      "execution_count": 74,
      "outputs": [
        {
          "output_type": "stream",
          "name": "stdout",
          "text": [
            "Model: \"sequential_3\"\n",
            "_________________________________________________________________\n",
            " Layer (type)                Output Shape              Param #   \n",
            "=================================================================\n",
            " dense_12 (Dense)            (None, 16)                176       \n",
            "                                                                 \n",
            " dense_13 (Dense)            (None, 32)                544       \n",
            "                                                                 \n",
            " dense_14 (Dense)            (None, 1)                 33        \n",
            "                                                                 \n",
            "=================================================================\n",
            "Total params: 753\n",
            "Trainable params: 753\n",
            "Non-trainable params: 0\n",
            "_________________________________________________________________\n",
            "None\n"
          ]
        }
      ]
    },
    {
      "cell_type": "code",
      "source": [
        "history2 = model2.fit(x=X_train_sc_smote, y=y_train_sc_smote, \n",
        "                      validation_data=(X_val_sc, y_val_sc),\n",
        "                      epochs=100, batch_size=1024, verbose=1)"
      ],
      "metadata": {
        "colab": {
          "base_uri": "https://localhost:8080/"
        },
        "id": "LfWhwTLGODjq",
        "outputId": "7825a522-b3d1-4e74-be7b-e8d871c49ec4"
      },
      "execution_count": 75,
      "outputs": [
        {
          "output_type": "stream",
          "name": "stdout",
          "text": [
            "Epoch 1/100\n",
            "62/62 [==============================] - 1s 6ms/step - loss: 9.1728 - accuracy: 0.5289 - val_loss: 0.7133 - val_accuracy: 0.7133\n",
            "Epoch 2/100\n",
            "62/62 [==============================] - 0s 3ms/step - loss: 0.9537 - accuracy: 0.6221 - val_loss: 0.9186 - val_accuracy: 0.6170\n",
            "Epoch 3/100\n",
            "62/62 [==============================] - 0s 3ms/step - loss: 0.8520 - accuracy: 0.6418 - val_loss: 0.8955 - val_accuracy: 0.6032\n",
            "Epoch 4/100\n",
            "62/62 [==============================] - 0s 3ms/step - loss: 0.7692 - accuracy: 0.6590 - val_loss: 0.6800 - val_accuracy: 0.6726\n",
            "Epoch 5/100\n",
            "62/62 [==============================] - 0s 3ms/step - loss: 0.6775 - accuracy: 0.6808 - val_loss: 0.5192 - val_accuracy: 0.7428\n",
            "Epoch 6/100\n",
            "62/62 [==============================] - 0s 3ms/step - loss: 0.6270 - accuracy: 0.6958 - val_loss: 0.4476 - val_accuracy: 0.7922\n",
            "Epoch 7/100\n",
            "62/62 [==============================] - 0s 3ms/step - loss: 0.5890 - accuracy: 0.7087 - val_loss: 0.5480 - val_accuracy: 0.7149\n",
            "Epoch 8/100\n",
            "62/62 [==============================] - 0s 4ms/step - loss: 0.5760 - accuracy: 0.7150 - val_loss: 0.7436 - val_accuracy: 0.6121\n",
            "Epoch 9/100\n",
            "62/62 [==============================] - 0s 4ms/step - loss: 0.5555 - accuracy: 0.7257 - val_loss: 0.4892 - val_accuracy: 0.7510\n",
            "Epoch 10/100\n",
            "62/62 [==============================] - 0s 4ms/step - loss: 0.5721 - accuracy: 0.7201 - val_loss: 0.4653 - val_accuracy: 0.8088\n",
            "Epoch 11/100\n",
            "62/62 [==============================] - 0s 4ms/step - loss: 0.6080 - accuracy: 0.7143 - val_loss: 0.6033 - val_accuracy: 0.6938\n",
            "Epoch 12/100\n",
            "62/62 [==============================] - 0s 3ms/step - loss: 0.5291 - accuracy: 0.7412 - val_loss: 0.6749 - val_accuracy: 0.6562\n",
            "Epoch 13/100\n",
            "62/62 [==============================] - 0s 3ms/step - loss: 0.5316 - accuracy: 0.7381 - val_loss: 0.4490 - val_accuracy: 0.7767\n",
            "Epoch 14/100\n",
            "62/62 [==============================] - 0s 3ms/step - loss: 0.5547 - accuracy: 0.7281 - val_loss: 0.4814 - val_accuracy: 0.7590\n",
            "Epoch 15/100\n",
            "62/62 [==============================] - 0s 3ms/step - loss: 0.5288 - accuracy: 0.7406 - val_loss: 0.4730 - val_accuracy: 0.7623\n",
            "Epoch 16/100\n",
            "62/62 [==============================] - 0s 3ms/step - loss: 0.5345 - accuracy: 0.7375 - val_loss: 0.5206 - val_accuracy: 0.7353\n",
            "Epoch 17/100\n",
            "62/62 [==============================] - 0s 4ms/step - loss: 0.5305 - accuracy: 0.7406 - val_loss: 0.4761 - val_accuracy: 0.7616\n",
            "Epoch 18/100\n",
            "62/62 [==============================] - 0s 3ms/step - loss: 0.5340 - accuracy: 0.7395 - val_loss: 0.4300 - val_accuracy: 0.7909\n",
            "Epoch 19/100\n",
            "62/62 [==============================] - 0s 4ms/step - loss: 0.5661 - accuracy: 0.7282 - val_loss: 0.4171 - val_accuracy: 0.7966\n",
            "Epoch 20/100\n",
            "62/62 [==============================] - 0s 4ms/step - loss: 0.5532 - accuracy: 0.7359 - val_loss: 0.7631 - val_accuracy: 0.6276\n",
            "Epoch 21/100\n",
            "62/62 [==============================] - 0s 3ms/step - loss: 0.5737 - accuracy: 0.7261 - val_loss: 0.3918 - val_accuracy: 0.8243\n",
            "Epoch 22/100\n",
            "62/62 [==============================] - 0s 3ms/step - loss: 0.5361 - accuracy: 0.7421 - val_loss: 0.3918 - val_accuracy: 0.8243\n",
            "Epoch 23/100\n",
            "62/62 [==============================] - 0s 3ms/step - loss: 0.5592 - accuracy: 0.7310 - val_loss: 0.8437 - val_accuracy: 0.5964\n",
            "Epoch 24/100\n",
            "62/62 [==============================] - 0s 3ms/step - loss: 0.5475 - accuracy: 0.7374 - val_loss: 0.4084 - val_accuracy: 0.8031\n",
            "Epoch 25/100\n",
            "62/62 [==============================] - 0s 3ms/step - loss: 0.5382 - accuracy: 0.7397 - val_loss: 0.6140 - val_accuracy: 0.6947\n",
            "Epoch 26/100\n",
            "62/62 [==============================] - 0s 4ms/step - loss: 0.5351 - accuracy: 0.7391 - val_loss: 0.5669 - val_accuracy: 0.7182\n",
            "Epoch 27/100\n",
            "62/62 [==============================] - 0s 4ms/step - loss: 0.5747 - accuracy: 0.7269 - val_loss: 0.7366 - val_accuracy: 0.6442\n",
            "Epoch 28/100\n",
            "62/62 [==============================] - 0s 3ms/step - loss: 0.5459 - accuracy: 0.7391 - val_loss: 0.5377 - val_accuracy: 0.7315\n",
            "Epoch 29/100\n",
            "62/62 [==============================] - 0s 4ms/step - loss: 0.5295 - accuracy: 0.7420 - val_loss: 0.4198 - val_accuracy: 0.7953\n",
            "Epoch 30/100\n",
            "62/62 [==============================] - 0s 3ms/step - loss: 0.5743 - accuracy: 0.7287 - val_loss: 0.7903 - val_accuracy: 0.6225\n",
            "Epoch 31/100\n",
            "62/62 [==============================] - 0s 3ms/step - loss: 0.5573 - accuracy: 0.7336 - val_loss: 0.7785 - val_accuracy: 0.6292\n",
            "Epoch 32/100\n",
            "62/62 [==============================] - 0s 4ms/step - loss: 0.5363 - accuracy: 0.7417 - val_loss: 0.5228 - val_accuracy: 0.7426\n",
            "Epoch 33/100\n",
            "62/62 [==============================] - 0s 4ms/step - loss: 0.5133 - accuracy: 0.7504 - val_loss: 0.7463 - val_accuracy: 0.6347\n",
            "Epoch 34/100\n",
            "62/62 [==============================] - 0s 4ms/step - loss: 0.5452 - accuracy: 0.7359 - val_loss: 0.4111 - val_accuracy: 0.8031\n",
            "Epoch 35/100\n",
            "62/62 [==============================] - 0s 3ms/step - loss: 0.5712 - accuracy: 0.7297 - val_loss: 0.6105 - val_accuracy: 0.7025\n",
            "Epoch 36/100\n",
            "62/62 [==============================] - 0s 3ms/step - loss: 0.5703 - accuracy: 0.7291 - val_loss: 0.4547 - val_accuracy: 0.7816\n",
            "Epoch 37/100\n",
            "62/62 [==============================] - 0s 3ms/step - loss: 0.5239 - accuracy: 0.7468 - val_loss: 0.6034 - val_accuracy: 0.7031\n",
            "Epoch 38/100\n",
            "62/62 [==============================] - 0s 3ms/step - loss: 0.5247 - accuracy: 0.7444 - val_loss: 0.6973 - val_accuracy: 0.6584\n",
            "Epoch 39/100\n",
            "62/62 [==============================] - 0s 4ms/step - loss: 0.5747 - accuracy: 0.7270 - val_loss: 0.7568 - val_accuracy: 0.6391\n",
            "Epoch 40/100\n",
            "62/62 [==============================] - 0s 3ms/step - loss: 0.5328 - accuracy: 0.7423 - val_loss: 0.6070 - val_accuracy: 0.7029\n",
            "Epoch 41/100\n",
            "62/62 [==============================] - 0s 4ms/step - loss: 0.5270 - accuracy: 0.7455 - val_loss: 0.4080 - val_accuracy: 0.8051\n",
            "Epoch 42/100\n",
            "62/62 [==============================] - 0s 4ms/step - loss: 0.5435 - accuracy: 0.7399 - val_loss: 0.9775 - val_accuracy: 0.5428\n",
            "Epoch 43/100\n",
            "62/62 [==============================] - 0s 5ms/step - loss: 0.5547 - accuracy: 0.7343 - val_loss: 0.3879 - val_accuracy: 0.8230\n",
            "Epoch 44/100\n",
            "62/62 [==============================] - 0s 4ms/step - loss: 0.5589 - accuracy: 0.7351 - val_loss: 0.4377 - val_accuracy: 0.7895\n",
            "Epoch 45/100\n",
            "62/62 [==============================] - 0s 4ms/step - loss: 0.5290 - accuracy: 0.7446 - val_loss: 0.4079 - val_accuracy: 0.8245\n",
            "Epoch 46/100\n",
            "62/62 [==============================] - 0s 4ms/step - loss: 0.5586 - accuracy: 0.7328 - val_loss: 0.4632 - val_accuracy: 0.7751\n",
            "Epoch 47/100\n",
            "62/62 [==============================] - 0s 4ms/step - loss: 0.5215 - accuracy: 0.7488 - val_loss: 0.6125 - val_accuracy: 0.7020\n",
            "Epoch 48/100\n",
            "62/62 [==============================] - 0s 4ms/step - loss: 0.5446 - accuracy: 0.7381 - val_loss: 0.4709 - val_accuracy: 0.7729\n",
            "Epoch 49/100\n",
            "62/62 [==============================] - 0s 4ms/step - loss: 0.5447 - accuracy: 0.7383 - val_loss: 0.6256 - val_accuracy: 0.6961\n",
            "Epoch 50/100\n",
            "62/62 [==============================] - 0s 4ms/step - loss: 0.5252 - accuracy: 0.7472 - val_loss: 0.4700 - val_accuracy: 0.7727\n",
            "Epoch 51/100\n",
            "62/62 [==============================] - 0s 4ms/step - loss: 0.5209 - accuracy: 0.7483 - val_loss: 0.4583 - val_accuracy: 0.7758\n",
            "Epoch 52/100\n",
            "62/62 [==============================] - 0s 4ms/step - loss: 0.5587 - accuracy: 0.7326 - val_loss: 0.4088 - val_accuracy: 0.8059\n",
            "Epoch 53/100\n",
            "62/62 [==============================] - 0s 4ms/step - loss: 0.5266 - accuracy: 0.7477 - val_loss: 0.4294 - val_accuracy: 0.7920\n",
            "Epoch 54/100\n",
            "62/62 [==============================] - 0s 4ms/step - loss: 0.5488 - accuracy: 0.7378 - val_loss: 0.7266 - val_accuracy: 0.6506\n",
            "Epoch 55/100\n",
            "62/62 [==============================] - 0s 4ms/step - loss: 0.5440 - accuracy: 0.7399 - val_loss: 0.5039 - val_accuracy: 0.7559\n",
            "Epoch 56/100\n",
            "62/62 [==============================] - 0s 3ms/step - loss: 0.5113 - accuracy: 0.7535 - val_loss: 0.5592 - val_accuracy: 0.7246\n",
            "Epoch 57/100\n",
            "62/62 [==============================] - 0s 3ms/step - loss: 0.5418 - accuracy: 0.7392 - val_loss: 0.4363 - val_accuracy: 0.7909\n",
            "Epoch 58/100\n",
            "62/62 [==============================] - 0s 3ms/step - loss: 0.5182 - accuracy: 0.7492 - val_loss: 0.3999 - val_accuracy: 0.8104\n",
            "Epoch 59/100\n",
            "62/62 [==============================] - 0s 3ms/step - loss: 0.5395 - accuracy: 0.7411 - val_loss: 0.4264 - val_accuracy: 0.7938\n",
            "Epoch 60/100\n",
            "62/62 [==============================] - 0s 3ms/step - loss: 0.5685 - accuracy: 0.7313 - val_loss: 0.3864 - val_accuracy: 0.8248\n",
            "Epoch 61/100\n",
            "62/62 [==============================] - 0s 3ms/step - loss: 0.5281 - accuracy: 0.7466 - val_loss: 0.6685 - val_accuracy: 0.6748\n",
            "Epoch 62/100\n",
            "62/62 [==============================] - 0s 3ms/step - loss: 0.5512 - accuracy: 0.7361 - val_loss: 0.3861 - val_accuracy: 0.8239\n",
            "Epoch 63/100\n",
            "62/62 [==============================] - 0s 3ms/step - loss: 0.5697 - accuracy: 0.7328 - val_loss: 0.6170 - val_accuracy: 0.7031\n",
            "Epoch 64/100\n",
            "62/62 [==============================] - 0s 3ms/step - loss: 0.5239 - accuracy: 0.7508 - val_loss: 0.4679 - val_accuracy: 0.7740\n",
            "Epoch 65/100\n",
            "62/62 [==============================] - 0s 4ms/step - loss: 0.5158 - accuracy: 0.7495 - val_loss: 0.7459 - val_accuracy: 0.6378\n",
            "Epoch 66/100\n",
            "62/62 [==============================] - 0s 4ms/step - loss: 0.5621 - accuracy: 0.7296 - val_loss: 0.3863 - val_accuracy: 0.8239\n",
            "Epoch 67/100\n",
            "62/62 [==============================] - 0s 4ms/step - loss: 0.5297 - accuracy: 0.7472 - val_loss: 0.3918 - val_accuracy: 0.8155\n",
            "Epoch 68/100\n",
            "62/62 [==============================] - 0s 4ms/step - loss: 0.5758 - accuracy: 0.7276 - val_loss: 0.4782 - val_accuracy: 0.7698\n",
            "Epoch 69/100\n",
            "62/62 [==============================] - 0s 4ms/step - loss: 0.5371 - accuracy: 0.7440 - val_loss: 0.4267 - val_accuracy: 0.7946\n",
            "Epoch 70/100\n",
            "62/62 [==============================] - 0s 4ms/step - loss: 0.5424 - accuracy: 0.7412 - val_loss: 0.4105 - val_accuracy: 0.8035\n",
            "Epoch 71/100\n",
            "62/62 [==============================] - 0s 4ms/step - loss: 0.5021 - accuracy: 0.7583 - val_loss: 0.4991 - val_accuracy: 0.7592\n",
            "Epoch 72/100\n",
            "62/62 [==============================] - 0s 4ms/step - loss: 0.5757 - accuracy: 0.7274 - val_loss: 0.5757 - val_accuracy: 0.7224\n",
            "Epoch 73/100\n",
            "62/62 [==============================] - 0s 4ms/step - loss: 0.5092 - accuracy: 0.7542 - val_loss: 0.5834 - val_accuracy: 0.7162\n",
            "Epoch 74/100\n",
            "62/62 [==============================] - 0s 3ms/step - loss: 0.5465 - accuracy: 0.7389 - val_loss: 0.3843 - val_accuracy: 0.8245\n",
            "Epoch 75/100\n",
            "62/62 [==============================] - 0s 3ms/step - loss: 0.5441 - accuracy: 0.7433 - val_loss: 0.3846 - val_accuracy: 0.8241\n",
            "Epoch 76/100\n",
            "62/62 [==============================] - 0s 3ms/step - loss: 0.5474 - accuracy: 0.7386 - val_loss: 0.8315 - val_accuracy: 0.6061\n",
            "Epoch 77/100\n",
            "62/62 [==============================] - 0s 3ms/step - loss: 0.5172 - accuracy: 0.7504 - val_loss: 0.6074 - val_accuracy: 0.7056\n",
            "Epoch 78/100\n",
            "62/62 [==============================] - 0s 3ms/step - loss: 0.5308 - accuracy: 0.7453 - val_loss: 0.4605 - val_accuracy: 0.7767\n",
            "Epoch 79/100\n",
            "62/62 [==============================] - 0s 3ms/step - loss: 0.5258 - accuracy: 0.7478 - val_loss: 0.7721 - val_accuracy: 0.6263\n",
            "Epoch 80/100\n",
            "62/62 [==============================] - 0s 3ms/step - loss: 0.5183 - accuracy: 0.7505 - val_loss: 0.6370 - val_accuracy: 0.6892\n",
            "Epoch 81/100\n",
            "62/62 [==============================] - 0s 3ms/step - loss: 0.5055 - accuracy: 0.7540 - val_loss: 0.4607 - val_accuracy: 0.7765\n",
            "Epoch 82/100\n",
            "62/62 [==============================] - 0s 3ms/step - loss: 0.5433 - accuracy: 0.7390 - val_loss: 0.5417 - val_accuracy: 0.7408\n",
            "Epoch 83/100\n",
            "62/62 [==============================] - 0s 3ms/step - loss: 0.5573 - accuracy: 0.7334 - val_loss: 0.5474 - val_accuracy: 0.7370\n",
            "Epoch 84/100\n",
            "62/62 [==============================] - 0s 3ms/step - loss: 0.5472 - accuracy: 0.7407 - val_loss: 0.7308 - val_accuracy: 0.6493\n",
            "Epoch 85/100\n",
            "62/62 [==============================] - 0s 4ms/step - loss: 0.5255 - accuracy: 0.7467 - val_loss: 0.4208 - val_accuracy: 0.7982\n",
            "Epoch 86/100\n",
            "62/62 [==============================] - 0s 4ms/step - loss: 0.5402 - accuracy: 0.7410 - val_loss: 0.3837 - val_accuracy: 0.8254\n",
            "Epoch 87/100\n",
            "62/62 [==============================] - 0s 4ms/step - loss: 0.5250 - accuracy: 0.7466 - val_loss: 0.5921 - val_accuracy: 0.7127\n",
            "Epoch 88/100\n",
            "62/62 [==============================] - 0s 4ms/step - loss: 0.5724 - accuracy: 0.7274 - val_loss: 0.7349 - val_accuracy: 0.6495\n",
            "Epoch 89/100\n",
            "62/62 [==============================] - 0s 3ms/step - loss: 0.5455 - accuracy: 0.7425 - val_loss: 0.6200 - val_accuracy: 0.7003\n",
            "Epoch 90/100\n",
            "62/62 [==============================] - 0s 3ms/step - loss: 0.5419 - accuracy: 0.7398 - val_loss: 0.9331 - val_accuracy: 0.5654\n",
            "Epoch 91/100\n",
            "62/62 [==============================] - 0s 4ms/step - loss: 0.5269 - accuracy: 0.7469 - val_loss: 0.4842 - val_accuracy: 0.7658\n",
            "Epoch 92/100\n",
            "62/62 [==============================] - 0s 4ms/step - loss: 0.5178 - accuracy: 0.7512 - val_loss: 0.4490 - val_accuracy: 0.7853\n",
            "Epoch 93/100\n",
            "62/62 [==============================] - 0s 3ms/step - loss: 0.5272 - accuracy: 0.7452 - val_loss: 0.3846 - val_accuracy: 0.8252\n",
            "Epoch 94/100\n",
            "62/62 [==============================] - 0s 3ms/step - loss: 0.5426 - accuracy: 0.7425 - val_loss: 0.3892 - val_accuracy: 0.8183\n",
            "Epoch 95/100\n",
            "62/62 [==============================] - 0s 3ms/step - loss: 0.5324 - accuracy: 0.7435 - val_loss: 0.5791 - val_accuracy: 0.7198\n",
            "Epoch 96/100\n",
            "62/62 [==============================] - 0s 3ms/step - loss: 0.5503 - accuracy: 0.7409 - val_loss: 0.7426 - val_accuracy: 0.6433\n",
            "Epoch 97/100\n",
            "62/62 [==============================] - 0s 3ms/step - loss: 0.5666 - accuracy: 0.7322 - val_loss: 0.9164 - val_accuracy: 0.5773\n",
            "Epoch 98/100\n",
            "62/62 [==============================] - 0s 3ms/step - loss: 0.5268 - accuracy: 0.7491 - val_loss: 0.4630 - val_accuracy: 0.7763\n",
            "Epoch 99/100\n",
            "62/62 [==============================] - 0s 3ms/step - loss: 0.5410 - accuracy: 0.7408 - val_loss: 0.4339 - val_accuracy: 0.7904\n",
            "Epoch 100/100\n",
            "62/62 [==============================] - 0s 3ms/step - loss: 0.5230 - accuracy: 0.7479 - val_loss: 0.5611 - val_accuracy: 0.7306\n"
          ]
        }
      ]
    },
    {
      "cell_type": "code",
      "source": [
        "predictions2 = model2.predict(X_test_sc)"
      ],
      "metadata": {
        "colab": {
          "base_uri": "https://localhost:8080/"
        },
        "id": "2mufTsrNOrWG",
        "outputId": "ed583b6f-b510-486a-9e2f-9060ff427dff"
      },
      "execution_count": 76,
      "outputs": [
        {
          "output_type": "stream",
          "name": "stdout",
          "text": [
            "353/353 [==============================] - 1s 3ms/step\n"
          ]
        }
      ]
    },
    {
      "cell_type": "markdown",
      "source": [
        "#### Evaluation Model 2"
      ],
      "metadata": {
        "id": "WWu9o0iAOzB7"
      }
    },
    {
      "cell_type": "code",
      "source": [
        "clf_r2 = classification_report(y_test_sc, predictions2.round())\n",
        "print(clf_r2)"
      ],
      "metadata": {
        "colab": {
          "base_uri": "https://localhost:8080/"
        },
        "id": "zLM1GljRO0da",
        "outputId": "9b3cd2e5-eda5-4708-fdc4-bf4825b58c2f"
      },
      "execution_count": 77,
      "outputs": [
        {
          "output_type": "stream",
          "name": "stdout",
          "text": [
            "              precision    recall  f1-score   support\n",
            "\n",
            "           0       0.93      0.70      0.80      8854\n",
            "           1       0.43      0.82      0.56      2430\n",
            "\n",
            "    accuracy                           0.73     11284\n",
            "   macro avg       0.68      0.76      0.68     11284\n",
            "weighted avg       0.82      0.73      0.75     11284\n",
            "\n"
          ]
        }
      ]
    },
    {
      "cell_type": "code",
      "source": [
        "# Compute confusion matrix\n",
        "cnf_matrix_2 = confusion_matrix(y_test_sc, predictions2.round(), labels=[0,1])\n",
        "np.set_printoptions(precision=2)\n",
        "\n",
        "\n",
        "# Plot non-normalized confusion matrix\n",
        "plt.figure()\n",
        "plot_confusion_matrix(cnf_matrix_2, classes=['No=0','Yes=1'],normalize= False,  title='Confusion matrix')"
      ],
      "metadata": {
        "colab": {
          "base_uri": "https://localhost:8080/",
          "height": 362
        },
        "id": "8aMsCqq9O24X",
        "outputId": "0112c52f-3ffb-420c-8afd-79721405e5ed"
      },
      "execution_count": 91,
      "outputs": [
        {
          "output_type": "stream",
          "name": "stdout",
          "text": [
            "Confusion matrix, without normalization\n",
            "[[6201 2653]\n",
            " [ 448 1982]]\n"
          ]
        },
        {
          "output_type": "display_data",
          "data": {
            "text/plain": [
              "<Figure size 432x288 with 2 Axes>"
            ],
            "image/png": "[encoded data removed]"
          },
          "metadata": {}
        }
      ]
    },
    {
      "cell_type": "markdown",
      "source": [
        "### Model 3\n",
        "Task: Binary Classification\n",
        "\n",
        "Arsitektur ANN:\n",
        "1. 21 unit input\n",
        "2. 2 hidden layers: (a) h1 => 16 unit dan (b) h2 => 32 unit dengan fungsi aktivasi 'relu'\n",
        "3. 1 output unit dengan fungsi aktivasi 'sigmoid'\n",
        "\n",
        "Loss Function:\n",
        "Binary Crossentropy\n",
        "\n",
        "Optimizer:\n",
        "Adam\n",
        "\n",
        "Train-set:\n",
        "SMOTE oversampled"
      ],
      "metadata": {
        "id": "iPlvG9zGO6OS"
      }
    },
    {
      "cell_type": "code",
      "source": [
        "model3 = Sequential()\n",
        "model3.add(Dense(16, input_shape=(len(features),), activation='relu'))\n",
        "model3.add(Dense(32, activation='relu'))\n",
        "model3.add(Dense(1, activation='sigmoid'))\n",
        "\n",
        "model3.compile(loss='binary_crossentropy', optimizer='adam', metrics=['accuracy'])"
      ],
      "metadata": {
        "id": "0hSTFQnBPBR-"
      },
      "execution_count": 78,
      "outputs": []
    },
    {
      "cell_type": "code",
      "source": [
        "print(model3.summary())"
      ],
      "metadata": {
        "colab": {
          "base_uri": "https://localhost:8080/"
        },
        "id": "uTUuwa-9PJT-",
        "outputId": "58915d04-a33c-42a0-b990-f1e28f2867f5"
      },
      "execution_count": 79,
      "outputs": [
        {
          "output_type": "stream",
          "name": "stdout",
          "text": [
            "Model: \"sequential_4\"\n",
            "_________________________________________________________________\n",
            " Layer (type)                Output Shape              Param #   \n",
            "=================================================================\n",
            " dense_15 (Dense)            (None, 16)                352       \n",
            "                                                                 \n",
            " dense_16 (Dense)            (None, 32)                544       \n",
            "                                                                 \n",
            " dense_17 (Dense)            (None, 1)                 33        \n",
            "                                                                 \n",
            "=================================================================\n",
            "Total params: 929\n",
            "Trainable params: 929\n",
            "Non-trainable params: 0\n",
            "_________________________________________________________________\n",
            "None\n"
          ]
        }
      ]
    },
    {
      "cell_type": "code",
      "source": [
        "history3 = model3.fit(x=X_train_smote, y=y_train_smote, \n",
        "                      validation_data=(X_val, y_val),\n",
        "                      epochs=100, batch_size=1024, verbose=1)"
      ],
      "metadata": {
        "colab": {
          "base_uri": "https://localhost:8080/"
        },
        "id": "529Qi2mOPF1_",
        "outputId": "f3b47509-86b9-465a-99b1-7a7631c2568d"
      },
      "execution_count": 80,
      "outputs": [
        {
          "output_type": "stream",
          "name": "stdout",
          "text": [
            "Epoch 1/100\n",
            "62/62 [==============================] - 2s 12ms/step - loss: 56.3651 - accuracy: 0.5075 - val_loss: 3.4175 - val_accuracy: 0.2565\n",
            "Epoch 2/100\n",
            "62/62 [==============================] - 1s 8ms/step - loss: 1.0367 - accuracy: 0.5909 - val_loss: 0.8054 - val_accuracy: 0.6225\n",
            "Epoch 3/100\n",
            "62/62 [==============================] - 1s 9ms/step - loss: 0.8075 - accuracy: 0.6317 - val_loss: 0.7575 - val_accuracy: 0.6365\n",
            "Epoch 4/100\n",
            "62/62 [==============================] - 0s 5ms/step - loss: 0.7177 - accuracy: 0.6625 - val_loss: 0.6699 - val_accuracy: 0.6726\n",
            "Epoch 5/100\n",
            "62/62 [==============================] - 0s 4ms/step - loss: 0.6579 - accuracy: 0.6856 - val_loss: 0.5976 - val_accuracy: 0.7067\n",
            "Epoch 6/100\n",
            "62/62 [==============================] - 0s 4ms/step - loss: 0.6147 - accuracy: 0.7051 - val_loss: 0.6243 - val_accuracy: 0.6914\n",
            "Epoch 7/100\n",
            "62/62 [==============================] - 0s 4ms/step - loss: 0.5839 - accuracy: 0.7192 - val_loss: 0.5485 - val_accuracy: 0.7300\n",
            "Epoch 8/100\n",
            "62/62 [==============================] - 0s 4ms/step - loss: 0.5633 - accuracy: 0.7270 - val_loss: 0.5590 - val_accuracy: 0.7246\n",
            "Epoch 9/100\n",
            "62/62 [==============================] - 0s 3ms/step - loss: 0.5462 - accuracy: 0.7367 - val_loss: 0.5704 - val_accuracy: 0.7151\n",
            "Epoch 10/100\n",
            "62/62 [==============================] - 0s 4ms/step - loss: 0.5339 - accuracy: 0.7402 - val_loss: 0.5598 - val_accuracy: 0.7204\n",
            "Epoch 11/100\n",
            "62/62 [==============================] - 0s 3ms/step - loss: 0.5226 - accuracy: 0.7472 - val_loss: 0.5065 - val_accuracy: 0.7503\n",
            "Epoch 12/100\n",
            "62/62 [==============================] - 0s 3ms/step - loss: 0.5151 - accuracy: 0.7503 - val_loss: 0.6390 - val_accuracy: 0.6790\n",
            "Epoch 13/100\n",
            "62/62 [==============================] - 0s 4ms/step - loss: 0.5097 - accuracy: 0.7538 - val_loss: 0.5429 - val_accuracy: 0.7308\n",
            "Epoch 14/100\n",
            "62/62 [==============================] - 0s 4ms/step - loss: 0.4985 - accuracy: 0.7583 - val_loss: 0.4913 - val_accuracy: 0.7599\n",
            "Epoch 15/100\n",
            "62/62 [==============================] - 0s 4ms/step - loss: 0.4900 - accuracy: 0.7619 - val_loss: 0.5023 - val_accuracy: 0.7550\n",
            "Epoch 16/100\n",
            "62/62 [==============================] - 0s 4ms/step - loss: 0.4850 - accuracy: 0.7650 - val_loss: 0.4215 - val_accuracy: 0.8044\n",
            "Epoch 17/100\n",
            "62/62 [==============================] - 0s 4ms/step - loss: 0.4871 - accuracy: 0.7637 - val_loss: 0.4517 - val_accuracy: 0.7833\n",
            "Epoch 18/100\n",
            "62/62 [==============================] - 0s 4ms/step - loss: 0.4870 - accuracy: 0.7638 - val_loss: 0.5215 - val_accuracy: 0.7415\n",
            "Epoch 19/100\n",
            "62/62 [==============================] - 0s 4ms/step - loss: 0.4776 - accuracy: 0.7697 - val_loss: 0.4312 - val_accuracy: 0.7960\n",
            "Epoch 20/100\n",
            "62/62 [==============================] - 0s 4ms/step - loss: 0.4720 - accuracy: 0.7723 - val_loss: 0.4787 - val_accuracy: 0.7641\n",
            "Epoch 21/100\n",
            "62/62 [==============================] - 0s 4ms/step - loss: 0.4713 - accuracy: 0.7740 - val_loss: 0.3856 - val_accuracy: 0.8241\n",
            "Epoch 22/100\n",
            "62/62 [==============================] - 0s 4ms/step - loss: 0.4654 - accuracy: 0.7758 - val_loss: 0.4536 - val_accuracy: 0.7816\n",
            "Epoch 23/100\n",
            "62/62 [==============================] - 0s 4ms/step - loss: 0.4605 - accuracy: 0.7780 - val_loss: 0.5137 - val_accuracy: 0.7428\n",
            "Epoch 24/100\n",
            "62/62 [==============================] - 0s 4ms/step - loss: 0.4663 - accuracy: 0.7759 - val_loss: 0.4109 - val_accuracy: 0.8075\n",
            "Epoch 25/100\n",
            "62/62 [==============================] - 0s 4ms/step - loss: 0.4763 - accuracy: 0.7700 - val_loss: 0.3748 - val_accuracy: 0.8283\n",
            "Epoch 26/100\n",
            "62/62 [==============================] - 0s 4ms/step - loss: 0.4649 - accuracy: 0.7765 - val_loss: 0.3787 - val_accuracy: 0.8263\n",
            "Epoch 27/100\n",
            "62/62 [==============================] - 0s 4ms/step - loss: 0.4639 - accuracy: 0.7775 - val_loss: 0.3800 - val_accuracy: 0.8265\n",
            "Epoch 28/100\n",
            "62/62 [==============================] - 0s 4ms/step - loss: 0.4597 - accuracy: 0.7806 - val_loss: 0.4233 - val_accuracy: 0.7988\n",
            "Epoch 29/100\n",
            "62/62 [==============================] - 0s 4ms/step - loss: 0.4586 - accuracy: 0.7796 - val_loss: 0.5010 - val_accuracy: 0.7530\n",
            "Epoch 30/100\n",
            "62/62 [==============================] - 0s 4ms/step - loss: 0.4604 - accuracy: 0.7798 - val_loss: 0.4774 - val_accuracy: 0.7645\n",
            "Epoch 31/100\n",
            "62/62 [==============================] - 0s 4ms/step - loss: 0.4587 - accuracy: 0.7804 - val_loss: 0.4057 - val_accuracy: 0.8082\n",
            "Epoch 32/100\n",
            "62/62 [==============================] - 0s 4ms/step - loss: 0.4570 - accuracy: 0.7831 - val_loss: 0.4058 - val_accuracy: 0.8084\n",
            "Epoch 33/100\n",
            "62/62 [==============================] - 0s 4ms/step - loss: 0.4527 - accuracy: 0.7839 - val_loss: 0.4024 - val_accuracy: 0.8104\n",
            "Epoch 34/100\n",
            "62/62 [==============================] - 0s 4ms/step - loss: 0.4543 - accuracy: 0.7834 - val_loss: 0.3812 - val_accuracy: 0.8259\n",
            "Epoch 35/100\n",
            "62/62 [==============================] - 0s 4ms/step - loss: 0.4565 - accuracy: 0.7822 - val_loss: 0.4360 - val_accuracy: 0.7898\n",
            "Epoch 36/100\n",
            "62/62 [==============================] - 0s 4ms/step - loss: 0.4582 - accuracy: 0.7824 - val_loss: 0.3776 - val_accuracy: 0.8285\n",
            "Epoch 37/100\n",
            "62/62 [==============================] - 0s 4ms/step - loss: 0.4565 - accuracy: 0.7823 - val_loss: 0.5231 - val_accuracy: 0.7470\n",
            "Epoch 38/100\n",
            "62/62 [==============================] - 0s 3ms/step - loss: 0.4505 - accuracy: 0.7841 - val_loss: 0.4919 - val_accuracy: 0.7599\n",
            "Epoch 39/100\n",
            "62/62 [==============================] - 0s 4ms/step - loss: 0.4740 - accuracy: 0.7730 - val_loss: 0.4896 - val_accuracy: 0.7610\n",
            "Epoch 40/100\n",
            "62/62 [==============================] - 0s 3ms/step - loss: 0.4492 - accuracy: 0.7868 - val_loss: 0.4582 - val_accuracy: 0.7769\n",
            "Epoch 41/100\n",
            "62/62 [==============================] - 0s 3ms/step - loss: 0.4496 - accuracy: 0.7869 - val_loss: 0.4763 - val_accuracy: 0.7676\n",
            "Epoch 42/100\n",
            "62/62 [==============================] - 0s 3ms/step - loss: 0.4673 - accuracy: 0.7761 - val_loss: 0.5241 - val_accuracy: 0.7479\n",
            "Epoch 43/100\n",
            "62/62 [==============================] - 0s 3ms/step - loss: 0.4516 - accuracy: 0.7869 - val_loss: 0.5102 - val_accuracy: 0.7537\n",
            "Epoch 44/100\n",
            "62/62 [==============================] - 0s 3ms/step - loss: 0.4466 - accuracy: 0.7869 - val_loss: 0.4369 - val_accuracy: 0.7898\n",
            "Epoch 45/100\n",
            "62/62 [==============================] - 0s 3ms/step - loss: 0.4541 - accuracy: 0.7849 - val_loss: 0.3707 - val_accuracy: 0.8321\n",
            "Epoch 46/100\n",
            "62/62 [==============================] - 0s 3ms/step - loss: 0.4581 - accuracy: 0.7818 - val_loss: 0.5303 - val_accuracy: 0.7452\n",
            "Epoch 47/100\n",
            "62/62 [==============================] - 0s 4ms/step - loss: 0.4544 - accuracy: 0.7845 - val_loss: 0.4509 - val_accuracy: 0.7811\n",
            "Epoch 48/100\n",
            "62/62 [==============================] - 0s 4ms/step - loss: 0.4581 - accuracy: 0.7813 - val_loss: 0.4223 - val_accuracy: 0.7991\n",
            "Epoch 49/100\n",
            "62/62 [==============================] - 0s 4ms/step - loss: 0.4797 - accuracy: 0.7723 - val_loss: 0.3873 - val_accuracy: 0.8188\n",
            "Epoch 50/100\n",
            "62/62 [==============================] - 0s 4ms/step - loss: 0.4453 - accuracy: 0.7885 - val_loss: 0.4233 - val_accuracy: 0.7984\n",
            "Epoch 51/100\n",
            "62/62 [==============================] - 0s 3ms/step - loss: 0.4485 - accuracy: 0.7866 - val_loss: 0.5434 - val_accuracy: 0.7388\n",
            "Epoch 52/100\n",
            "62/62 [==============================] - 0s 4ms/step - loss: 0.4540 - accuracy: 0.7836 - val_loss: 0.4826 - val_accuracy: 0.7669\n",
            "Epoch 53/100\n",
            "62/62 [==============================] - 0s 3ms/step - loss: 0.4579 - accuracy: 0.7833 - val_loss: 0.3897 - val_accuracy: 0.8188\n",
            "Epoch 54/100\n",
            "62/62 [==============================] - 0s 3ms/step - loss: 0.4711 - accuracy: 0.7755 - val_loss: 0.4061 - val_accuracy: 0.8097\n",
            "Epoch 55/100\n",
            "62/62 [==============================] - 0s 3ms/step - loss: 0.4483 - accuracy: 0.7872 - val_loss: 0.3824 - val_accuracy: 0.8239\n",
            "Epoch 56/100\n",
            "62/62 [==============================] - 0s 3ms/step - loss: 0.4516 - accuracy: 0.7851 - val_loss: 0.4316 - val_accuracy: 0.7940\n",
            "Epoch 57/100\n",
            "62/62 [==============================] - 0s 3ms/step - loss: 0.4604 - accuracy: 0.7816 - val_loss: 0.5005 - val_accuracy: 0.7594\n",
            "Epoch 58/100\n",
            "62/62 [==============================] - 0s 3ms/step - loss: 0.4541 - accuracy: 0.7827 - val_loss: 0.5325 - val_accuracy: 0.7470\n",
            "Epoch 59/100\n",
            "62/62 [==============================] - 0s 3ms/step - loss: 0.4588 - accuracy: 0.7825 - val_loss: 0.4806 - val_accuracy: 0.7674\n",
            "Epoch 60/100\n",
            "62/62 [==============================] - 0s 4ms/step - loss: 0.4510 - accuracy: 0.7845 - val_loss: 0.3926 - val_accuracy: 0.8175\n",
            "Epoch 61/100\n",
            "62/62 [==============================] - 0s 3ms/step - loss: 0.4480 - accuracy: 0.7870 - val_loss: 0.4602 - val_accuracy: 0.7780\n",
            "Epoch 62/100\n",
            "62/62 [==============================] - 0s 3ms/step - loss: 0.4472 - accuracy: 0.7873 - val_loss: 0.4537 - val_accuracy: 0.7818\n",
            "Epoch 63/100\n",
            "62/62 [==============================] - 0s 3ms/step - loss: 0.4477 - accuracy: 0.7872 - val_loss: 0.4160 - val_accuracy: 0.8039\n",
            "Epoch 64/100\n",
            "62/62 [==============================] - 0s 3ms/step - loss: 0.4480 - accuracy: 0.7863 - val_loss: 0.4304 - val_accuracy: 0.7933\n",
            "Epoch 65/100\n",
            "62/62 [==============================] - 0s 3ms/step - loss: 0.4489 - accuracy: 0.7871 - val_loss: 0.4133 - val_accuracy: 0.8073\n",
            "Epoch 66/100\n",
            "62/62 [==============================] - 0s 4ms/step - loss: 0.4612 - accuracy: 0.7809 - val_loss: 0.4231 - val_accuracy: 0.7993\n",
            "Epoch 67/100\n",
            "62/62 [==============================] - 0s 4ms/step - loss: 0.4619 - accuracy: 0.7807 - val_loss: 0.4480 - val_accuracy: 0.7851\n",
            "Epoch 68/100\n",
            "62/62 [==============================] - 0s 3ms/step - loss: 0.4532 - accuracy: 0.7850 - val_loss: 0.3919 - val_accuracy: 0.8163\n",
            "Epoch 69/100\n",
            "62/62 [==============================] - 0s 4ms/step - loss: 0.4723 - accuracy: 0.7766 - val_loss: 0.3792 - val_accuracy: 0.8263\n",
            "Epoch 70/100\n",
            "62/62 [==============================] - 0s 4ms/step - loss: 0.4495 - accuracy: 0.7864 - val_loss: 0.3773 - val_accuracy: 0.8276\n",
            "Epoch 71/100\n",
            "62/62 [==============================] - 0s 3ms/step - loss: 0.4580 - accuracy: 0.7822 - val_loss: 0.5327 - val_accuracy: 0.7475\n",
            "Epoch 72/100\n",
            "62/62 [==============================] - 0s 3ms/step - loss: 0.4483 - accuracy: 0.7875 - val_loss: 0.5369 - val_accuracy: 0.7439\n",
            "Epoch 73/100\n",
            "62/62 [==============================] - 0s 3ms/step - loss: 0.4507 - accuracy: 0.7864 - val_loss: 0.4689 - val_accuracy: 0.7754\n",
            "Epoch 74/100\n",
            "62/62 [==============================] - 0s 3ms/step - loss: 0.4613 - accuracy: 0.7814 - val_loss: 0.4521 - val_accuracy: 0.7838\n",
            "Epoch 75/100\n",
            "62/62 [==============================] - 0s 3ms/step - loss: 0.4465 - accuracy: 0.7884 - val_loss: 0.6385 - val_accuracy: 0.6941\n",
            "Epoch 76/100\n",
            "62/62 [==============================] - 0s 4ms/step - loss: 0.4768 - accuracy: 0.7729 - val_loss: 0.8587 - val_accuracy: 0.5904\n",
            "Epoch 77/100\n",
            "62/62 [==============================] - 0s 3ms/step - loss: 0.4647 - accuracy: 0.7809 - val_loss: 0.4067 - val_accuracy: 0.8097\n",
            "Epoch 78/100\n",
            "62/62 [==============================] - 0s 3ms/step - loss: 0.4470 - accuracy: 0.7875 - val_loss: 0.5477 - val_accuracy: 0.7417\n",
            "Epoch 79/100\n",
            "62/62 [==============================] - 0s 3ms/step - loss: 0.4450 - accuracy: 0.7879 - val_loss: 0.3703 - val_accuracy: 0.8352\n",
            "Epoch 80/100\n",
            "62/62 [==============================] - 0s 3ms/step - loss: 0.4537 - accuracy: 0.7853 - val_loss: 0.4391 - val_accuracy: 0.7913\n",
            "Epoch 81/100\n",
            "62/62 [==============================] - 0s 4ms/step - loss: 0.4520 - accuracy: 0.7855 - val_loss: 0.4970 - val_accuracy: 0.7621\n",
            "Epoch 82/100\n",
            "62/62 [==============================] - 0s 3ms/step - loss: 0.4460 - accuracy: 0.7883 - val_loss: 0.4966 - val_accuracy: 0.7619\n",
            "Epoch 83/100\n",
            "62/62 [==============================] - 0s 4ms/step - loss: 0.4479 - accuracy: 0.7868 - val_loss: 0.4350 - val_accuracy: 0.7938\n",
            "Epoch 84/100\n",
            "62/62 [==============================] - 0s 3ms/step - loss: 0.4551 - accuracy: 0.7831 - val_loss: 0.4521 - val_accuracy: 0.7847\n",
            "Epoch 85/100\n",
            "62/62 [==============================] - 0s 5ms/step - loss: 0.4605 - accuracy: 0.7817 - val_loss: 0.4445 - val_accuracy: 0.7900\n",
            "Epoch 86/100\n",
            "62/62 [==============================] - 0s 5ms/step - loss: 0.4551 - accuracy: 0.7834 - val_loss: 0.3760 - val_accuracy: 0.8299\n",
            "Epoch 87/100\n",
            "62/62 [==============================] - 0s 6ms/step - loss: 0.4457 - accuracy: 0.7882 - val_loss: 0.3847 - val_accuracy: 0.8208\n",
            "Epoch 88/100\n",
            "62/62 [==============================] - 0s 4ms/step - loss: 0.4562 - accuracy: 0.7852 - val_loss: 0.4080 - val_accuracy: 0.8106\n",
            "Epoch 89/100\n",
            "62/62 [==============================] - 0s 6ms/step - loss: 0.4455 - accuracy: 0.7874 - val_loss: 0.4576 - val_accuracy: 0.7827\n",
            "Epoch 90/100\n",
            "62/62 [==============================] - 0s 4ms/step - loss: 0.4666 - accuracy: 0.7770 - val_loss: 0.5135 - val_accuracy: 0.7556\n",
            "Epoch 91/100\n",
            "62/62 [==============================] - 0s 5ms/step - loss: 0.4631 - accuracy: 0.7790 - val_loss: 0.3892 - val_accuracy: 0.8168\n",
            "Epoch 92/100\n",
            "62/62 [==============================] - 0s 6ms/step - loss: 0.4527 - accuracy: 0.7860 - val_loss: 0.3567 - val_accuracy: 0.8440\n",
            "Epoch 93/100\n",
            "62/62 [==============================] - 0s 6ms/step - loss: 0.4725 - accuracy: 0.7760 - val_loss: 0.3933 - val_accuracy: 0.8155\n",
            "Epoch 94/100\n",
            "62/62 [==============================] - 0s 4ms/step - loss: 0.4481 - accuracy: 0.7862 - val_loss: 0.5611 - val_accuracy: 0.7355\n",
            "Epoch 95/100\n",
            "62/62 [==============================] - 0s 7ms/step - loss: 0.4486 - accuracy: 0.7864 - val_loss: 0.3654 - val_accuracy: 0.8394\n",
            "Epoch 96/100\n",
            "62/62 [==============================] - 0s 4ms/step - loss: 0.4631 - accuracy: 0.7800 - val_loss: 0.4575 - val_accuracy: 0.7829\n",
            "Epoch 97/100\n",
            "62/62 [==============================] - 0s 5ms/step - loss: 0.4522 - accuracy: 0.7850 - val_loss: 0.3468 - val_accuracy: 0.8482\n",
            "Epoch 98/100\n",
            "62/62 [==============================] - 0s 5ms/step - loss: 0.4527 - accuracy: 0.7866 - val_loss: 0.4632 - val_accuracy: 0.7809\n",
            "Epoch 99/100\n",
            "62/62 [==============================] - 0s 6ms/step - loss: 0.4417 - accuracy: 0.7906 - val_loss: 0.4333 - val_accuracy: 0.7931\n",
            "Epoch 100/100\n",
            "62/62 [==============================] - 0s 7ms/step - loss: 0.4423 - accuracy: 0.7893 - val_loss: 0.5501 - val_accuracy: 0.7406\n"
          ]
        }
      ]
    },
    {
      "cell_type": "code",
      "source": [
        "predictions3 = model3.predict(X_test)"
      ],
      "metadata": {
        "colab": {
          "base_uri": "https://localhost:8080/"
        },
        "id": "4CLrqO-EPO7o",
        "outputId": "7b9c8517-0d4f-4377-88ba-47d1b9b38977"
      },
      "execution_count": 81,
      "outputs": [
        {
          "output_type": "stream",
          "name": "stdout",
          "text": [
            "353/353 [==============================] - 1s 2ms/step\n"
          ]
        }
      ]
    },
    {
      "cell_type": "markdown",
      "source": [
        "#### Evaluation: model3"
      ],
      "metadata": {
        "id": "ivLQRd6rPfoq"
      }
    },
    {
      "cell_type": "code",
      "source": [
        "clf_r3 = classification_report(y_test, predictions3.round())\n",
        "print(clf_r3)"
      ],
      "metadata": {
        "colab": {
          "base_uri": "https://localhost:8080/"
        },
        "id": "Sa2RawqNPhPl",
        "outputId": "37abb069-718c-4bca-c860-13aa8fb377de"
      },
      "execution_count": 82,
      "outputs": [
        {
          "output_type": "stream",
          "name": "stdout",
          "text": [
            "              precision    recall  f1-score   support\n",
            "\n",
            "           0       0.95      0.71      0.81      8854\n",
            "           1       0.45      0.88      0.59      2430\n",
            "\n",
            "    accuracy                           0.74     11284\n",
            "   macro avg       0.70      0.79      0.70     11284\n",
            "weighted avg       0.85      0.74      0.76     11284\n",
            "\n"
          ]
        }
      ]
    },
    {
      "cell_type": "code",
      "source": [
        "# Compute confusion matrix\n",
        "cnf_matrix_3 = confusion_matrix(y_test, predictions3.round(), labels=[0,1])\n",
        "np.set_printoptions(precision=2)\n",
        "\n",
        "\n",
        "# Plot non-normalized confusion matrix\n",
        "plt.figure()\n",
        "plot_confusion_matrix(cnf_matrix_3, classes=['No=0','Yes=1'],normalize= False,  title='Confusion matrix')"
      ],
      "metadata": {
        "colab": {
          "base_uri": "https://localhost:8080/",
          "height": 362
        },
        "id": "R_cMCyhQPmWi",
        "outputId": "687b8bb7-2def-4bb3-86cc-397bbe41ebdf"
      },
      "execution_count": 92,
      "outputs": [
        {
          "output_type": "stream",
          "name": "stdout",
          "text": [
            "Confusion matrix, without normalization\n",
            "[[6245 2609]\n",
            " [ 299 2131]]\n"
          ]
        },
        {
          "output_type": "display_data",
          "data": {
            "text/plain": [
              "<Figure size 432x288 with 2 Axes>"
            ],
            "image/png": "[encoded data removed]"
          },
          "metadata": {}
        }
      ]
    },
    {
      "cell_type": "markdown",
      "source": [
        "### Thoughts: model1 performed the best so far\n",
        "Model 1 dengan arsitektur ANN:\n",
        "1. 21 unit input: Semua fitur digunakan kecuali Date dan fitur dengan type object di-encode menjadi numerikal type.\n",
        "2. 2 hidden layers: (a) h1 => 16 unit dan (b) 32 unit dengan fungsi aktivasi 'relu'\n",
        "3. 1 ouput unit dengan fungsi aktivasi 'sigmoid'\n",
        "\n",
        "Loss function: Binary Crossentropy\n",
        "\n",
        "Optimizer: Adam\n",
        "\n",
        "Train-set: Not resampled\n",
        "\n",
        "Memberikan performa terbaik terhadap test set dengan f1-score macro average sebesar 0.72. \n",
        "\n",
        "#### Hidden layers: 2 hidden layers\n",
        "Hidden layer digunakan agar data menjadi *linearly separable* antar kelas Yes (1) dan No (0), dengan menghasilkan *best decision boundary*. Dengan menambahkan 2 hidden layers pada arsitektur ANN model1 dan dengan 16 dan 32 unit untuk setiap layer-nya, didapatkan f1-score macro average sebesar 72%. Eksperimen lanjutan bisa dilanjutkan dengan melakukan modifikasi terhadap jumlah hidden layer (Dense) pada arsitektur, termasuk jumlah unit untuk setiap layer.\n",
        "\n",
        "#### Train-set: imbalanced dataset\n",
        "Pada model1, train-set yang digunakan merupakan set yang tidak balance antar kelas 0 dan kelas 1. Persentase data train dengan label 0 yaitu sebanyak ~77%. Namun, dengan menggunakan f1-score macro average sebagai metrik evaluasi utama dalam menentukan model terbaik, ini bisa meng-*capture* fenomena imbalanced dataset yang digunakan sebagai data latih karena metrik ini tidak mengistimewakan suatu kelas."
      ],
      "metadata": {
        "id": "zlnRFXlQP3A_"
      }
    },
    {
      "cell_type": "code",
      "source": [
        "def plot_acc_epoch(epochs, train_acc, val_acc):\n",
        "    l = range(1,epochs+1)\n",
        "    N = len(l)\n",
        "    l2 = np.arange(N)\n",
        "    plt.subplots(figsize=(10, 5))\n",
        "    plt.plot(l2, val_acc, label=\"Validation Accuracy\")\n",
        "    plt.plot(l2, train_acc, label=\"Training Accuracy\")\n",
        "    plt.xticks(l2,l)\n",
        "    plt.grid(True)\n",
        "    plt.xlabel(\"Epochs\")\n",
        "    plt.ylabel(\"Accuracy\")\n",
        "    plt.legend()\n",
        "    plt.title('Accuracy versus Epoch', fontsize=12)\n",
        "    plt.show()"
      ],
      "metadata": {
        "id": "Gx5nV_28UISo"
      },
      "execution_count": 95,
      "outputs": []
    },
    {
      "cell_type": "code",
      "source": [
        "plot_acc_epoch(100, history1.history['accuracy'], history1.history['val_accuracy'])"
      ],
      "metadata": {
        "colab": {
          "base_uri": "https://localhost:8080/",
          "height": 355
        },
        "id": "L8js1RUJXnz-",
        "outputId": "620d2d97-4a4e-4be2-fd7d-6684f2388c7c"
      },
      "execution_count": 96,
      "outputs": [
        {
          "output_type": "display_data",
          "data": {
            "text/plain": [
              "<Figure size 720x360 with 1 Axes>"
            ],
            "image/png": "[encoded data removed]"
          },
          "metadata": {}
        }
      ]
    }
  ]
}